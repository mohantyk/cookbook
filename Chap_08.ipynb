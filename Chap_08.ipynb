{
 "cells": [
  {
   "cell_type": "markdown",
   "metadata": {},
   "source": [
    "### 8.2 Customizing string formatting"
   ]
  },
  {
   "cell_type": "code",
   "execution_count": 1,
   "metadata": {},
   "outputs": [],
   "source": [
    "_formats = {\n",
    "    'ymd': '{d.year}-{d.month}-{d.day}',\n",
    "    'mdy': '{d.month}/{d.day}/{d.year}',\n",
    "    'dmy': '{d.day}/{d.month}/{d.year}'\n",
    "}"
   ]
  },
  {
   "cell_type": "code",
   "execution_count": 2,
   "metadata": {},
   "outputs": [],
   "source": [
    "class Date:\n",
    "\n",
    "    def __init__(self, day, month, year):\n",
    "        self.day , self.month, self.year = day, month, year\n",
    "        \n",
    "    def __format__(self, code):\n",
    "        if code=='':\n",
    "            code = 'ymd'\n",
    "        fmt = _formats[code]\n",
    "        return fmt.format(d=self)"
   ]
  },
  {
   "cell_type": "code",
   "execution_count": 3,
   "metadata": {},
   "outputs": [
    {
     "name": "stdout",
     "output_type": "stream",
     "text": [
      "31/7/1985\n",
      "7/31/1985\n",
      "1985-7-31\n"
     ]
    }
   ],
   "source": [
    "d = Date(31, 7, 1985)\n",
    "print(format(d, 'dmy'))\n",
    "print(format(d, 'mdy'))\n",
    "print('{:ymd}'.format(d))"
   ]
  },
  {
   "cell_type": "code",
   "execution_count": null,
   "metadata": {},
   "outputs": [],
   "source": []
  }
 ],
 "metadata": {
  "kernelspec": {
   "display_name": "Python 3",
   "language": "python",
   "name": "python3"
  },
  "language_info": {
   "codemirror_mode": {
    "name": "ipython",
    "version": 3
   },
   "file_extension": ".py",
   "mimetype": "text/x-python",
   "name": "python",
   "nbconvert_exporter": "python",
   "pygments_lexer": "ipython3",
   "version": "3.7.1"
  }
 },
 "nbformat": 4,
 "nbformat_minor": 2
}
