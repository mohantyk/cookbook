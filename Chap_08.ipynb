{
 "cells": [
  {
   "cell_type": "markdown",
   "metadata": {},
   "source": [
    "### 8.2 Customizing string formatting"
   ]
  },
  {
   "cell_type": "code",
   "execution_count": 1,
   "metadata": {},
   "outputs": [],
   "source": [
    "_formats = {\n",
    "    'ymd': '{d.year}-{d.month}-{d.day}',\n",
    "    'mdy': '{d.month}/{d.day}/{d.year}',\n",
    "    'dmy': '{d.day}/{d.month}/{d.year}'\n",
    "}"
   ]
  },
  {
   "cell_type": "code",
   "execution_count": 2,
   "metadata": {},
   "outputs": [],
   "source": [
    "class Date:\n",
    "\n",
    "    def __init__(self, day, month, year):\n",
    "        self.day , self.month, self.year = day, month, year\n",
    "        \n",
    "    def __format__(self, code):\n",
    "        if code=='':\n",
    "            code = 'ymd'\n",
    "        fmt = _formats[code]\n",
    "        return fmt.format(d=self)"
   ]
  },
  {
   "cell_type": "code",
   "execution_count": 3,
   "metadata": {},
   "outputs": [
    {
     "name": "stdout",
     "output_type": "stream",
     "text": [
      "31/7/1985\n",
      "7/31/1985\n",
      "1985-7-31\n"
     ]
    }
   ],
   "source": [
    "d = Date(31, 7, 1985)\n",
    "print(format(d, 'dmy'))\n",
    "print(format(d, 'mdy'))\n",
    "print('{:ymd}'.format(d))"
   ]
  },
  {
   "cell_type": "markdown",
   "metadata": {},
   "source": [
    "### 8.8 Extending a Property in a Subclass"
   ]
  },
  {
   "cell_type": "code",
   "execution_count": 4,
   "metadata": {},
   "outputs": [],
   "source": [
    "class Person:\n",
    "    \n",
    "    def __init__(self, name):\n",
    "        self.name = name\n",
    "        \n",
    "    @property\n",
    "    def name(self):\n",
    "        return self._name\n",
    "    \n",
    "    @name.setter\n",
    "    def name(self, value):\n",
    "        if not isinstance(value, str):\n",
    "            raise TypeError('Expected a string.')\n",
    "        self._name = value"
   ]
  },
  {
   "cell_type": "code",
   "execution_count": 5,
   "metadata": {},
   "outputs": [],
   "source": [
    "class SubPerson(Person):\n",
    "    \n",
    "    @property\n",
    "    def name(self):\n",
    "        print('Getting name')\n",
    "        return super().name\n",
    "    \n",
    "    \n",
    "    @name.setter\n",
    "    def name(self, value):\n",
    "        print('Setting name')\n",
    "        # https://stackoverflow.com/questions/38661438/python-super-two-argument-version-in-context-of-new\n",
    "        super(SubPerson, SubPerson).name.__set__(self, value) # Having a class as the second argument is to access the __set__ class method"
   ]
  },
  {
   "cell_type": "code",
   "execution_count": 6,
   "metadata": {},
   "outputs": [
    {
     "name": "stdout",
     "output_type": "stream",
     "text": [
      "Guido\n",
      "BDFL\n"
     ]
    }
   ],
   "source": [
    "s = Person('Guido')\n",
    "print(s.name)\n",
    "s.name = 'BDFL'\n",
    "print(s.name)"
   ]
  },
  {
   "cell_type": "code",
   "execution_count": 7,
   "metadata": {},
   "outputs": [
    {
     "name": "stdout",
     "output_type": "stream",
     "text": [
      "Setting name\n",
      "Getting name\n",
      "Larry\n",
      "Setting name\n",
      "Getting name\n",
      "Larry Wall\n"
     ]
    }
   ],
   "source": [
    "l = SubPerson('Larry')\n",
    "print(l.name)\n",
    "l.name = 'Larry Wall'\n",
    "print(l.name)"
   ]
  },
  {
   "cell_type": "code",
   "execution_count": 8,
   "metadata": {},
   "outputs": [],
   "source": [
    "class AnotherPerson(Person):\n",
    "    @Person.name.getter\n",
    "    def name(self):\n",
    "        print('Getting name for AnotherPerson')\n",
    "        return super().name\n",
    "        "
   ]
  },
  {
   "cell_type": "code",
   "execution_count": 9,
   "metadata": {},
   "outputs": [
    {
     "name": "stdout",
     "output_type": "stream",
     "text": [
      "Getting name for AnotherPerson\n",
      "Bjarne\n",
      "Getting name for AnotherPerson\n",
      "Getting name for AnotherPerson\n",
      "Bjarne Stroustrop\n"
     ]
    }
   ],
   "source": [
    "c = AnotherPerson('Bjarne')\n",
    "print(c.name)\n",
    "c.name += ' Stroustrop' # Will call the getter again\n",
    "print(c.name)"
   ]
  },
  {
   "cell_type": "code",
   "execution_count": 10,
   "metadata": {},
   "outputs": [
    {
     "name": "stdout",
     "output_type": "stream",
     "text": [
      "Init B\n",
      "A: <__main__.B object at 0x10daddb00>\n",
      "B: <__main__.B object at 0x10daddb00>\n"
     ]
    }
   ],
   "source": [
    "class A:\n",
    "    def __init__(self):\n",
    "        print('A: {}'.format(self))\n",
    "        \n",
    "class B(A):\n",
    "    def __init__(self):\n",
    "        print('Init B')\n",
    "        super().__init__()\n",
    "        print('B: {}'.format(self))\n",
    "        \n",
    "    def fake_init(self):\n",
    "        print('B fake init')\n",
    "        \n",
    "b = B()"
   ]
  },
  {
   "cell_type": "code",
   "execution_count": null,
   "metadata": {},
   "outputs": [],
   "source": []
  }
 ],
 "metadata": {
  "kernelspec": {
   "display_name": "Python 3",
   "language": "python",
   "name": "python3"
  },
  "language_info": {
   "codemirror_mode": {
    "name": "ipython",
    "version": 3
   },
   "file_extension": ".py",
   "mimetype": "text/x-python",
   "name": "python",
   "nbconvert_exporter": "python",
   "pygments_lexer": "ipython3",
   "version": "3.7.1"
  }
 },
 "nbformat": 4,
 "nbformat_minor": 2
}
