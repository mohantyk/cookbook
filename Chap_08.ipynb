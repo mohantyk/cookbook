{
 "cells": [
  {
   "cell_type": "markdown",
   "metadata": {},
   "source": [
    "### 8.2 Customizing string formatting"
   ]
  },
  {
   "cell_type": "code",
   "execution_count": 1,
   "metadata": {},
   "outputs": [],
   "source": [
    "_formats = {\n",
    "    'ymd': '{d.year}-{d.month}-{d.day}',\n",
    "    'mdy': '{d.month}/{d.day}/{d.year}',\n",
    "    'dmy': '{d.day}/{d.month}/{d.year}'\n",
    "}"
   ]
  },
  {
   "cell_type": "code",
   "execution_count": 2,
   "metadata": {},
   "outputs": [],
   "source": [
    "class Date:\n",
    "\n",
    "    def __init__(self, day, month, year):\n",
    "        self.day , self.month, self.year = day, month, year\n",
    "        \n",
    "    def __format__(self, code):\n",
    "        if code=='':\n",
    "            code = 'ymd'\n",
    "        fmt = _formats[code]\n",
    "        return fmt.format(d=self)"
   ]
  },
  {
   "cell_type": "code",
   "execution_count": 3,
   "metadata": {},
   "outputs": [
    {
     "name": "stdout",
     "output_type": "stream",
     "text": [
      "31/7/1985\n",
      "7/31/1985\n",
      "1985-7-31\n"
     ]
    }
   ],
   "source": [
    "d = Date(31, 7, 1985)\n",
    "print(format(d, 'dmy'))\n",
    "print(format(d, 'mdy'))\n",
    "print('{:ymd}'.format(d))"
   ]
  },
  {
   "cell_type": "markdown",
   "metadata": {},
   "source": [
    "### 8.8 Extending a Property in a Subclass"
   ]
  },
  {
   "cell_type": "code",
   "execution_count": 4,
   "metadata": {},
   "outputs": [],
   "source": [
    "class Person:\n",
    "    \n",
    "    def __init__(self, name):\n",
    "        self.name = name\n",
    "        \n",
    "    @property\n",
    "    def name(self):\n",
    "        return self._name\n",
    "    \n",
    "    @name.setter\n",
    "    def name(self, value):\n",
    "        if not isinstance(value, str):\n",
    "            raise TypeError('Expected a string.')\n",
    "        self._name = value"
   ]
  },
  {
   "cell_type": "code",
   "execution_count": 5,
   "metadata": {},
   "outputs": [],
   "source": [
    "class SubPerson(Person):\n",
    "    \n",
    "    @property\n",
    "    def name(self):\n",
    "        print('Getting name')\n",
    "        return super().name\n",
    "    \n",
    "    \n",
    "    @name.setter\n",
    "    def name(self, value):\n",
    "        print('Setting name')\n",
    "        # https://stackoverflow.com/questions/38661438/python-super-two-argument-version-in-context-of-new\n",
    "        super(SubPerson, SubPerson).name.__set__(self, value) # Having a class as the second argument is to access the __set__ class method"
   ]
  },
  {
   "cell_type": "code",
   "execution_count": 6,
   "metadata": {},
   "outputs": [
    {
     "name": "stdout",
     "output_type": "stream",
     "text": [
      "Guido\n",
      "BDFL\n"
     ]
    }
   ],
   "source": [
    "s = Person('Guido')\n",
    "print(s.name)\n",
    "s.name = 'BDFL'\n",
    "print(s.name)"
   ]
  },
  {
   "cell_type": "code",
   "execution_count": 7,
   "metadata": {},
   "outputs": [
    {
     "name": "stdout",
     "output_type": "stream",
     "text": [
      "Setting name\n",
      "Getting name\n",
      "Larry\n",
      "Setting name\n",
      "Getting name\n",
      "Larry Wall\n"
     ]
    }
   ],
   "source": [
    "l = SubPerson('Larry')\n",
    "print(l.name)\n",
    "l.name = 'Larry Wall'\n",
    "print(l.name)"
   ]
  },
  {
   "cell_type": "code",
   "execution_count": 8,
   "metadata": {},
   "outputs": [],
   "source": [
    "class AnotherPerson(Person):\n",
    "    @Person.name.getter\n",
    "    def name(self):\n",
    "        print('Getting name for AnotherPerson')\n",
    "        return super().name\n",
    "        "
   ]
  },
  {
   "cell_type": "code",
   "execution_count": 9,
   "metadata": {},
   "outputs": [
    {
     "name": "stdout",
     "output_type": "stream",
     "text": [
      "Getting name for AnotherPerson\n",
      "Bjarne\n",
      "Getting name for AnotherPerson\n",
      "Getting name for AnotherPerson\n",
      "Bjarne Stroustrop\n"
     ]
    }
   ],
   "source": [
    "c = AnotherPerson('Bjarne')\n",
    "print(c.name)\n",
    "c.name += ' Stroustrop' # Will call the getter again\n",
    "print(c.name)"
   ]
  },
  {
   "cell_type": "code",
   "execution_count": 10,
   "metadata": {},
   "outputs": [
    {
     "name": "stdout",
     "output_type": "stream",
     "text": [
      "Init B\n",
      "A: <__main__.B object at 0x102e80710>\n",
      "B: <__main__.B object at 0x102e80710>\n"
     ]
    }
   ],
   "source": [
    "class A:\n",
    "    def __init__(self):\n",
    "        print('A: {}'.format(self))\n",
    "        \n",
    "class B(A):\n",
    "    def __init__(self):\n",
    "        print('Init B')\n",
    "        super().__init__()\n",
    "        print('B: {}'.format(self))\n",
    "        \n",
    "    def fake_init(self):\n",
    "        print('B fake init')\n",
    "        \n",
    "b = B()"
   ]
  },
  {
   "cell_type": "markdown",
   "metadata": {},
   "source": [
    "### Descriptors"
   ]
  },
  {
   "cell_type": "code",
   "execution_count": 11,
   "metadata": {},
   "outputs": [],
   "source": [
    "class Typed:\n",
    "    def __init__(self, name, expected_type):\n",
    "        self.name = name\n",
    "        self.expected_type = expected_type\n",
    "        \n",
    "    def __get__(self, instance, cls):\n",
    "        if instance is None:\n",
    "            return self\n",
    "        return instance.__dict__[self.name]\n",
    "    \n",
    "    def __set__(self, instance, value):\n",
    "        if not isinstance(value, self.expected_type):\n",
    "            raise TypeError('{} requires an argument of type {!s}'.format(self.name, self.expected_type))\n",
    "        instance.__dict__[self.name] = value"
   ]
  },
  {
   "cell_type": "code",
   "execution_count": 12,
   "metadata": {},
   "outputs": [],
   "source": [
    "def typeassert(**kwargs):\n",
    "    def decorate(cls):\n",
    "        for name, expected_type in kwargs.items():\n",
    "            setattr(cls, name, Typed(name, expected_type))\n",
    "        return cls\n",
    "    return decorate"
   ]
  },
  {
   "cell_type": "code",
   "execution_count": 13,
   "metadata": {},
   "outputs": [],
   "source": [
    "@typeassert(name=str, shares=int, price=float)\n",
    "class Stock:\n",
    "    def __init__(self, name, shares, price):\n",
    "        self.name = name\n",
    "        self.shares = shares\n",
    "        self.price = price"
   ]
  },
  {
   "cell_type": "code",
   "execution_count": 14,
   "metadata": {},
   "outputs": [
    {
     "data": {
      "text/plain": [
       "mappingproxy({'__module__': '__main__',\n",
       "              '__init__': <function __main__.Stock.__init__(self, name, shares, price)>,\n",
       "              '__dict__': <attribute '__dict__' of 'Stock' objects>,\n",
       "              '__weakref__': <attribute '__weakref__' of 'Stock' objects>,\n",
       "              '__doc__': None,\n",
       "              'name': <__main__.Typed at 0x102e80eb8>,\n",
       "              'shares': <__main__.Typed at 0x102e80ef0>,\n",
       "              'price': <__main__.Typed at 0x102e80f28>})"
      ]
     },
     "execution_count": 14,
     "metadata": {},
     "output_type": "execute_result"
    }
   ],
   "source": [
    "vars(Stock)"
   ]
  },
  {
   "cell_type": "code",
   "execution_count": 15,
   "metadata": {},
   "outputs": [
    {
     "name": "stdout",
     "output_type": "stream",
     "text": [
      "Error: price requires an argument of type <class 'float'>\n"
     ]
    }
   ],
   "source": [
    "google = Stock('GOOG', 2, 1234.)\n",
    "try:\n",
    "    amazon = Stock('AMZN', 3, '1989')\n",
    "except TypeError as err:\n",
    "    print('Error: {}'.format(err))"
   ]
  },
  {
   "cell_type": "markdown",
   "metadata": {},
   "source": [
    "### 8.10 Lazy Properties"
   ]
  },
  {
   "cell_type": "code",
   "execution_count": 16,
   "metadata": {},
   "outputs": [],
   "source": [
    "# A lazy property implemented as a descriptor\n",
    "class lazyproperty:\n",
    "    def __init__(self, func):\n",
    "        self.func = func\n",
    "        \n",
    "    def __get__(self, instance, cls):\n",
    "        if instance is None:\n",
    "            return self\n",
    "        else:\n",
    "            value = self.func(instance)\n",
    "            setattr(instance, self.func.__name__, value)\n",
    "            return value"
   ]
  },
  {
   "cell_type": "code",
   "execution_count": 17,
   "metadata": {},
   "outputs": [],
   "source": [
    "import math\n",
    "\n",
    "class Circle:\n",
    "    def __init__(self, radius):\n",
    "        self.radius = radius\n",
    "        \n",
    "    @lazyproperty\n",
    "    def area(self):\n",
    "        print('Computing area')\n",
    "        return math.pi*(self.radius**2)"
   ]
  },
  {
   "cell_type": "code",
   "execution_count": 18,
   "metadata": {},
   "outputs": [
    {
     "name": "stdout",
     "output_type": "stream",
     "text": [
      "{'radius': 4.0}\n",
      "\n",
      "Computing area\n",
      "50.26548245743669\n",
      "\n",
      "{'radius': 4.0, 'area': 50.26548245743669}\n",
      "\n",
      "Area is now mutable: 42\n"
     ]
    }
   ],
   "source": [
    "c = Circle(4.0)\n",
    "print(vars(c))\n",
    "print()\n",
    "print(c.area)\n",
    "print()\n",
    "print(vars(c))\n",
    "print()\n",
    "c.area = 42\n",
    "print('Area is now mutable: {}'.format(c.area))"
   ]
  },
  {
   "cell_type": "code",
   "execution_count": 19,
   "metadata": {},
   "outputs": [],
   "source": [
    "def immutable_lazyproperty(func):\n",
    "    name = '_lazy_' + func.__name__\n",
    "    \n",
    "    @property\n",
    "    def lazy(self):\n",
    "        if hasattr(self, name):\n",
    "            return getattr(self, name)\n",
    "        else:\n",
    "            value = func(self)\n",
    "            setattr(self, name, value)\n",
    "            return value\n",
    "    return lazy"
   ]
  },
  {
   "cell_type": "code",
   "execution_count": 20,
   "metadata": {},
   "outputs": [],
   "source": [
    "class Square:\n",
    "    def __init__(self, side):\n",
    "        self.side = side\n",
    "        \n",
    "    @immutable_lazyproperty\n",
    "    def area(self):\n",
    "        print('Computing area')\n",
    "        return self.side**2"
   ]
  },
  {
   "cell_type": "code",
   "execution_count": 21,
   "metadata": {},
   "outputs": [
    {
     "name": "stdout",
     "output_type": "stream",
     "text": [
      "{'side': 4.0}\n",
      "\n",
      "Computing area\n",
      "16.0\n",
      "\n",
      "{'side': 4.0, '_lazy_area': 16.0}\n",
      "\n",
      "Can not arbitrary change area now\n"
     ]
    }
   ],
   "source": [
    "c = Square(4.0)\n",
    "print(vars(c))\n",
    "print()\n",
    "print(c.area)\n",
    "print()\n",
    "print(vars(c))\n",
    "print()\n",
    "try:\n",
    "    c.area = 42\n",
    "except Exception as err:\n",
    "    print('Can not arbitrary change area now')\n"
   ]
  },
  {
   "cell_type": "markdown",
   "metadata": {},
   "source": [
    "### 8.11 Simplified Initialization"
   ]
  },
  {
   "cell_type": "code",
   "execution_count": 22,
   "metadata": {},
   "outputs": [],
   "source": [
    "class Structure:\n",
    "    _fields = []\n",
    "    \n",
    "    def __init__(self, *args):\n",
    "        if len(args) != len(self._fields):\n",
    "            raise TypeError('{} expects {} arguments.'.format(self.__class__.__name__, len(self._fields)))\n",
    "            \n",
    "        for attr, value in zip(self._fields, args):\n",
    "            setattr(self, attr, value)"
   ]
  },
  {
   "cell_type": "code",
   "execution_count": 23,
   "metadata": {},
   "outputs": [
    {
     "name": "stdout",
     "output_type": "stream",
     "text": [
      "153.93804002589985\n"
     ]
    }
   ],
   "source": [
    "class Circle(Structure):\n",
    "    _fields = ['radius']\n",
    "    \n",
    "    @property\n",
    "    def area(self):\n",
    "        return math.pi*(self.radius**2)\n",
    "    \n",
    "c = Circle(7.0)\n",
    "print(c.area)"
   ]
  },
  {
   "cell_type": "code",
   "execution_count": 24,
   "metadata": {},
   "outputs": [
    {
     "name": "stdout",
     "output_type": "stream",
     "text": [
      "Error: Stock expects 3 arguments.\n"
     ]
    }
   ],
   "source": [
    "class Stock(Structure):\n",
    "    _fields = ['name', 'price', 'quantity']\n",
    "    \n",
    "google = Stock('GOOG', 1334., 20)\n",
    "google.price\n",
    "\n",
    "try:\n",
    "    amazon = Stock('AMAZN', 1984.)\n",
    "except TypeError as err:\n",
    "    print('Error: {}'.format(err))"
   ]
  },
  {
   "cell_type": "code",
   "execution_count": 25,
   "metadata": {},
   "outputs": [
    {
     "name": "stdout",
     "output_type": "stream",
     "text": [
      "Help on class Stock in module __main__:\n",
      "\n",
      "class Stock(Structure)\n",
      " |  Stock(*args)\n",
      " |  \n",
      " |  Method resolution order:\n",
      " |      Stock\n",
      " |      Structure\n",
      " |      builtins.object\n",
      " |  \n",
      " |  Data and other attributes defined here:\n",
      " |  \n",
      " |  _fields = ['name', 'price', 'quantity']\n",
      " |  \n",
      " |  ----------------------------------------------------------------------\n",
      " |  Methods inherited from Structure:\n",
      " |  \n",
      " |  __init__(self, *args)\n",
      " |      Initialize self.  See help(type(self)) for accurate signature.\n",
      " |  \n",
      " |  ----------------------------------------------------------------------\n",
      " |  Data descriptors inherited from Structure:\n",
      " |  \n",
      " |  __dict__\n",
      " |      dictionary for instance variables (if defined)\n",
      " |  \n",
      " |  __weakref__\n",
      " |      list of weak references to the object (if defined)\n",
      "\n"
     ]
    }
   ],
   "source": [
    "help(Stock)"
   ]
  },
  {
   "cell_type": "code",
   "execution_count": 26,
   "metadata": {},
   "outputs": [],
   "source": [
    "def init_fromlocals(self):\n",
    "    import sys\n",
    "    locs = sys._getframe(1).f_locals\n",
    "    for name, value in locs.items():\n",
    "        if name != 'self':\n",
    "            setattr(self, name, value)\n",
    "            \n",
    "            \n",
    "class Stock:\n",
    "    def __init__(self, name, shares, price):\n",
    "        init_fromlocals(self)"
   ]
  },
  {
   "cell_type": "code",
   "execution_count": 27,
   "metadata": {},
   "outputs": [
    {
     "data": {
      "text/plain": [
       "20"
      ]
     },
     "execution_count": 27,
     "metadata": {},
     "output_type": "execute_result"
    }
   ],
   "source": [
    "google = Stock('GOOG', 1334., 20)\n",
    "google.price"
   ]
  },
  {
   "cell_type": "markdown",
   "metadata": {},
   "source": [
    "### 8.13 Type System"
   ]
  },
  {
   "cell_type": "code",
   "execution_count": 28,
   "metadata": {},
   "outputs": [],
   "source": [
    "# Base descriptor\n",
    "class Descriptor:\n",
    "    def __init__(self, name=None, **opts):\n",
    "        self.name = name\n",
    "        for key, value in opts.items():\n",
    "            setattr(self, key, value)\n",
    "        \n",
    "    def __set__(self, instance, value):\n",
    "        instance.__dict__[self.name] = value\n",
    "        \n",
    "        "
   ]
  },
  {
   "cell_type": "code",
   "execution_count": 29,
   "metadata": {},
   "outputs": [],
   "source": [
    "# Type enforcing descriptor\n",
    "class Typed(Descriptor):\n",
    "    expected_type = type(None)    \n",
    "    def __set__(self, instance, value):\n",
    "        if not isinstance(value, self.expected_type):\n",
    "            raise TypeError('Expected value of type {}'.format(self.expected_type))\n",
    "        super().__set__(instance, value)\n",
    "\n",
    "# Value enforcing descriptor\n",
    "class Unsigned(Descriptor):\n",
    "    def __set__(self, instance, value):\n",
    "        if value < 0:\n",
    "            raise ValueError('Expected >= 0')\n",
    "        super().__set__(instance, value)\n",
    "            \n",
    "# Size checking descriptor\n",
    "class MaxSized(Descriptor):\n",
    "    def __init__(self, name=None, **opts):\n",
    "        if 'size' not in opts:\n",
    "            raise TypeError('Requires size option')\n",
    "        super().__init__(name, **opts)\n",
    "        \n",
    "    def __set__(self, instance, value):\n",
    "        if len(value) >= self.size:\n",
    "            raise ValueError('size must be < ' + str(self.size))\n",
    "        super().__set__(instance, value)"
   ]
  },
  {
   "cell_type": "code",
   "execution_count": 30,
   "metadata": {},
   "outputs": [],
   "source": [
    "class Integer(Typed):\n",
    "    expected_type = int\n",
    "    \n",
    "class UnsignedInteger(Integer, Unsigned): # Uses super() to traverse both typed and unsigned __set__()\n",
    "    pass\n",
    "\n",
    "class Float(Typed):\n",
    "    expected_type = float\n",
    "    \n",
    "class UnsignedFloat(Float, Unsigned):\n",
    "    pass\n",
    "\n",
    "class String(Typed):\n",
    "    expected_type = str\n",
    "    \n",
    "class SizedString(String, MaxSized):\n",
    "    pass"
   ]
  },
  {
   "cell_type": "code",
   "execution_count": 31,
   "metadata": {},
   "outputs": [
    {
     "name": "stdout",
     "output_type": "stream",
     "text": [
      "1340.23\n",
      "Error: size must be < 8\n"
     ]
    }
   ],
   "source": [
    "class Stock:\n",
    "    name = SizedString('name', size=8)\n",
    "    shares = UnsignedInteger('shares')\n",
    "    price = UnsignedFloat('price')\n",
    "    \n",
    "    def __init__(self, name, shares, price):\n",
    "        self.name  = name\n",
    "        self.shares = shares\n",
    "        self.price = price\n",
    "        \n",
    "        \n",
    "google = Stock('GOOG', 25, 1340.23)\n",
    "print(google.price)\n",
    "try:\n",
    "    hacked_stock = Stock('somerandomstock', 25, 989)\n",
    "except ValueError as err:\n",
    "    print('Error: {}'.format(err))"
   ]
  },
  {
   "cell_type": "markdown",
   "metadata": {},
   "source": [
    "#### Using a class decorator"
   ]
  },
  {
   "cell_type": "code",
   "execution_count": 32,
   "metadata": {},
   "outputs": [],
   "source": [
    "def check_attributes(**kwargs):\n",
    "    def decorate(cls):\n",
    "        for key, value in kwargs.items():\n",
    "            if isinstance(value, Descriptor):\n",
    "                value.name = key\n",
    "                setattr(cls, key, value)\n",
    "            else:\n",
    "                setattr(cls, key, value(key))\n",
    "        return cls\n",
    "    return decorate\n",
    "            "
   ]
  },
  {
   "cell_type": "code",
   "execution_count": 33,
   "metadata": {},
   "outputs": [
    {
     "name": "stdout",
     "output_type": "stream",
     "text": [
      "1340.23\n",
      "Error: Expected >= 0\n"
     ]
    }
   ],
   "source": [
    "@check_attributes(name = SizedString(size=8),\n",
    "                shares = UnsignedInteger,\n",
    "                price = UnsignedFloat)\n",
    "class DecoratedStock:\n",
    "    def __init__(self, name, shares, price):\n",
    "        self.name  = name\n",
    "        self.shares = shares\n",
    "        self.price = price\n",
    "        \n",
    "        \n",
    "google = DecoratedStock('GOOG', 25, 1340.23)\n",
    "print(google.price)\n",
    "try:\n",
    "    hacked_stock = DecoratedStock('someck', -25, 989)\n",
    "except ValueError as err:\n",
    "    print('Error: {}'.format(err))"
   ]
  },
  {
   "cell_type": "markdown",
   "metadata": {},
   "source": [
    "#### Metaclass"
   ]
  },
  {
   "cell_type": "code",
   "execution_count": 34,
   "metadata": {},
   "outputs": [],
   "source": [
    "class checkedmeta(type):\n",
    "    def __new__(cls, clsname, bases, methods):\n",
    "        for key, value in methods.items():\n",
    "            if isinstance(value, Descriptor):\n",
    "                value.name = key\n",
    "        return super().__new__(cls, clsname, bases, methods)\n",
    "                "
   ]
  },
  {
   "cell_type": "code",
   "execution_count": 35,
   "metadata": {},
   "outputs": [
    {
     "name": "stdout",
     "output_type": "stream",
     "text": [
      "1340.23\n",
      "Error: Expected value of type <class 'float'>\n"
     ]
    }
   ],
   "source": [
    "class MetaStock(metaclass=checkedmeta):\n",
    "    name = SizedString(size=8)\n",
    "    shares = UnsignedInteger()\n",
    "    price = UnsignedFloat()\n",
    "    def __init__(self, name, shares, price):\n",
    "        self.name  = name\n",
    "        self.shares = shares\n",
    "        self.price = price\n",
    "        \n",
    "        \n",
    "google = MetaStock('GOOG', 25, 1340.23)\n",
    "print(google.price)\n",
    "try:\n",
    "    hacked_stock = MetaStock('hack', 25, 'shellscript')\n",
    "except TypeError as err:\n",
    "    print('Error: {}'.format(err))"
   ]
  },
  {
   "cell_type": "markdown",
   "metadata": {},
   "source": [
    "#### Using Decorators instead of Mixins"
   ]
  },
  {
   "cell_type": "code",
   "execution_count": 36,
   "metadata": {},
   "outputs": [],
   "source": [
    "def deco_typed(expected_type, cls=None):\n",
    "    if cls is None:\n",
    "        return lambda cls: deco_typed(expected_type, cls) # The lambda becomes the final class decorator\n",
    "    \n",
    "    super_set = cls.__set__ # Can not use super() since this is a decorator, not in the inheritance hierarchy\n",
    "    def __set__(self, instance, value):\n",
    "        if not isinstance(value, expected_type):\n",
    "            raise TypeError('Expected value of type {}'.format(expected_type))\n",
    "        super_set(self, instance, value)\n",
    "    cls.__set__ = __set__\n",
    "    return cls\n",
    "\n",
    "def deco_maxsized(cls):\n",
    "    super_init = cls.__init__\n",
    "    def __init__(self, name=None, **opt):\n",
    "        if 'size' not in opt:\n",
    "            raise TypeError('Missing size option')\n",
    "        super_init(self, name,  **opt)\n",
    "    cls.__init__ = __init__\n",
    "    \n",
    "    super_set = cls.__set__\n",
    "    def __set__(self, instance, value):\n",
    "        if len(value) > self.size:\n",
    "            raise ValueError('Size should be <= {}'.format(self.size))\n",
    "        super_set(self, instance, value)\n",
    "    cls.__set__ = __set__    \n",
    "    return cls\n",
    "\n",
    "\n",
    "def deco_unsigned(cls):\n",
    "    super_set = cls.__set__\n",
    "    def __set__(self, instance, value):\n",
    "        if value < 0:\n",
    "            raise ValueError('Value should be >= 0')\n",
    "        super_set(self, instance, value)\n",
    "    cls.__set__ = __set__\n",
    "    return cls    "
   ]
  },
  {
   "cell_type": "code",
   "execution_count": 37,
   "metadata": {},
   "outputs": [],
   "source": [
    "@deco_typed(int)\n",
    "class NewInteger(Descriptor):\n",
    "    pass\n",
    "\n",
    "@deco_typed(float)\n",
    "class NewFloat(Descriptor):\n",
    "    pass\n",
    "\n",
    "@deco_typed(str)\n",
    "class NewString(Descriptor):\n",
    "    pass\n",
    "\n",
    "@deco_maxsized\n",
    "class NewSizedString(NewString):\n",
    "    pass\n",
    "\n",
    "@deco_unsigned\n",
    "class NewUnsignedInteger(NewInteger):\n",
    "    pass\n",
    "\n",
    "@deco_unsigned\n",
    "class NewUnsignedFloat(NewFloat):\n",
    "    pass"
   ]
  },
  {
   "cell_type": "code",
   "execution_count": 38,
   "metadata": {},
   "outputs": [
    {
     "name": "stdout",
     "output_type": "stream",
     "text": [
      "1340.23\n",
      "Error: '<' not supported between instances of 'str' and 'int'\n",
      "Error: Size should be <= 8\n",
      "Error: Value should be >= 0\n"
     ]
    }
   ],
   "source": [
    "@check_attributes(price=NewUnsignedFloat, name=NewSizedString(size=8), shares=NewUnsignedInteger)\n",
    "class NewStock:\n",
    "    def __init__(self, name, shares, price):\n",
    "        self.name = name\n",
    "        self.shares = shares\n",
    "        self.price = price\n",
    "        \n",
    "google = NewStock('GOOG', 25, 1340.23)\n",
    "print(google.price)\n",
    "try:\n",
    "    hacked_stock = NewStock('hack', 25, 'shellscript')\n",
    "    print(hacked_stock.price)\n",
    "except TypeError as err:\n",
    "    print('Error: {}'.format(err))\n",
    "    \n",
    "try:\n",
    "    hacked_stock = NewStock('hacked_buffer', 25, 1340.23)\n",
    "    print(hacked_stock.name)\n",
    "except ValueError as err:\n",
    "    print('Error: {}'.format(err))\n",
    "    \n",
    "try:\n",
    "    hacked_stock = NewStock('AMZN', -25, 1340.23)\n",
    "    print(hacked_stock.shares)\n",
    "except ValueError as err:\n",
    "    print('Error: {}'.format(err))"
   ]
  },
  {
   "cell_type": "markdown",
   "metadata": {},
   "source": [
    "### 8.16 Multiple Constructors"
   ]
  },
  {
   "cell_type": "code",
   "execution_count": 39,
   "metadata": {},
   "outputs": [],
   "source": [
    "import time\n",
    "\n",
    "class Date:\n",
    "    def __init__(self, day, month, year):\n",
    "        self.day = day\n",
    "        self.month = month\n",
    "        self.year = year\n",
    "        \n",
    "    @classmethod    \n",
    "    def today(cls):\n",
    "        t = time.localtime()\n",
    "        return cls(t.tm_mday, t.tm_mon, t.tm_year)\n",
    "    \n",
    "    def __repr__(self):\n",
    "        return str(self)\n",
    "    \n",
    "    def __str__(self):\n",
    "        return '{}/{}/{}'.format(self.day, self.month, self.year)"
   ]
  },
  {
   "cell_type": "code",
   "execution_count": 40,
   "metadata": {},
   "outputs": [
    {
     "data": {
      "text/plain": [
       "(21/12/2012, 22/1/2019)"
      ]
     },
     "execution_count": 40,
     "metadata": {},
     "output_type": "execute_result"
    }
   ],
   "source": [
    "a = Date(21, 12, 2012)\n",
    "b = Date.today()\n",
    "a, b"
   ]
  },
  {
   "cell_type": "code",
   "execution_count": 41,
   "metadata": {},
   "outputs": [
    {
     "name": "stdout",
     "output_type": "stream",
     "text": [
      "Since __init__ is not called, now the user has to fill in the attributes with setattr.\n"
     ]
    }
   ],
   "source": [
    "# Create a class without __init__\n",
    "d = Date.__new__(Date)\n",
    "try:\n",
    "    d.year\n",
    "except AttributeError:\n",
    "    print('Since __init__ is not called, now the user has to fill in the attributes with setattr.')"
   ]
  },
  {
   "cell_type": "markdown",
   "metadata": {},
   "source": [
    "### 8.18 Mixins"
   ]
  },
  {
   "cell_type": "code",
   "execution_count": 42,
   "metadata": {},
   "outputs": [],
   "source": [
    "class LoggedMappingMixin:\n",
    "    # Logs getitem and setitem\n",
    "    __slots__ = () # No internal state\n",
    "    \n",
    "    def __getitem__(self, key):\n",
    "        print('Getting {}'.format(key))\n",
    "        return super().__getitem__(key)\n",
    "        \n",
    "    def __setitem__(self, key, value):\n",
    "        print('Setting ({},{}) pair'.format(key, value))\n",
    "        super().__setitem__(key, value)\n",
    "        \n",
    "\n",
    "class SetOnceMappingMixin:\n",
    "    # A key can only be set once\n",
    "    __slots__ = () # No internal state\n",
    "    def __setitem__(self, key, value):\n",
    "        if key in self:\n",
    "            raise KeyError('{} already set.'.format(key))\n",
    "        super().__setitem__(key, value)"
   ]
  },
  {
   "cell_type": "code",
   "execution_count": 43,
   "metadata": {},
   "outputs": [
    {
     "name": "stdout",
     "output_type": "stream",
     "text": [
      "Getting name\n",
      "Bruce Wayne\n",
      "Setting (hero,Caped Crusader) pair\n",
      "Getting hero\n",
      "Caped Crusader\n"
     ]
    }
   ],
   "source": [
    "class LoggedDict(LoggedMappingMixin, dict):\n",
    "    pass\n",
    "\n",
    "a = LoggedDict({'name': 'Bruce Wayne', 'hero': 'Batman'})\n",
    "print(a['name'])\n",
    "a['hero']='Caped Crusader'\n",
    "print(a['hero'])"
   ]
  },
  {
   "cell_type": "code",
   "execution_count": 44,
   "metadata": {},
   "outputs": [
    {
     "name": "stdout",
     "output_type": "stream",
     "text": [
      "{'x': [2, 4], 'y': [3, 10]}\n",
      "Error: 'x already set.'\n"
     ]
    }
   ],
   "source": [
    "from collections import defaultdict\n",
    "\n",
    "class SetOnceDefaultDict(SetOnceMappingMixin, defaultdict):\n",
    "    pass\n",
    "\n",
    "d = SetOnceDefaultDict(list)\n",
    "d['x'].append(2); \n",
    "d['y'].append(3); \n",
    "d['x'].append(4); \n",
    "d['y'].append(10);\n",
    "print(dict(d))\n",
    "try:\n",
    "    d['x'] = 5\n",
    "except KeyError as err:\n",
    "    print('Error: {}'.format(err))"
   ]
  },
  {
   "cell_type": "markdown",
   "metadata": {},
   "source": [
    "### 8.19 Finite State Machine"
   ]
  },
  {
   "cell_type": "code",
   "execution_count": 45,
   "metadata": {},
   "outputs": [],
   "source": [
    "# One class to rule them all\n",
    "class Connection:\n",
    "    def __init__(self):\n",
    "        self.new_state(ClosedConnection)\n",
    "        \n",
    "    def new_state(self, newstate):\n",
    "        self.__class__ = newstate # Directly change the class !\n",
    "        \n",
    "    def read(self):\n",
    "        raise NotImplementedError()\n",
    "        \n",
    "    def write(self):\n",
    "        raise NotImplementedError()\n",
    "        \n",
    "    def open(self):\n",
    "        raise NotImplementedError()\n",
    "        \n",
    "    def close(self):\n",
    "        raise NotImplementedError()\n",
    "        \n",
    "# One class for each state        \n",
    "class ClosedConnection(Connection):\n",
    "    def read(self):\n",
    "        raise RuntimeError('Not open')\n",
    "        \n",
    "    def write(self):\n",
    "        raise RuntimeError('Not open')\n",
    "        \n",
    "    def open(self):\n",
    "        print('Opening')\n",
    "        self.new_state(OpenConnection)\n",
    "        \n",
    "    def close(self):\n",
    "        raise RuntimeError('Already Closed')\n",
    "        \n",
    "\n",
    "class OpenConnection(Connection):\n",
    "    def read(self):\n",
    "        print('reading')\n",
    "        \n",
    "    def write(self):\n",
    "        print('writing')\n",
    "        \n",
    "    def open(self):\n",
    "        raise RuntimeError('Already open')\n",
    "        \n",
    "    def close(self):\n",
    "        print('Closing')\n",
    "        self.new_state(ClosedConnection)"
   ]
  },
  {
   "cell_type": "code",
   "execution_count": 46,
   "metadata": {},
   "outputs": [
    {
     "name": "stdout",
     "output_type": "stream",
     "text": [
      "<__main__.ClosedConnection object at 0x102ede908>\n",
      "Error: Not open\n",
      "Opening\n",
      "<__main__.OpenConnection object at 0x102ede908>\n",
      "reading\n",
      "writing\n",
      "Closing\n",
      "<__main__.ClosedConnection object at 0x102ede908>\n"
     ]
    }
   ],
   "source": [
    "c = Connection()\n",
    "print(c)\n",
    "try:\n",
    "    c.read()\n",
    "except RuntimeError as err:\n",
    "    print('Error: {}'.format(err))\n",
    "    \n",
    "c.open()\n",
    "print(c)\n",
    "c.read()\n",
    "c.write()\n",
    "c.close()\n",
    "print(c)"
   ]
  },
  {
   "cell_type": "markdown",
   "metadata": {},
   "source": [
    "### 8.20 Call method using string"
   ]
  },
  {
   "cell_type": "code",
   "execution_count": 47,
   "metadata": {},
   "outputs": [],
   "source": [
    "import math\n",
    "import operator"
   ]
  },
  {
   "cell_type": "code",
   "execution_count": 48,
   "metadata": {},
   "outputs": [
    {
     "data": {
      "text/plain": [
       "3.605551275463989"
      ]
     },
     "execution_count": 48,
     "metadata": {},
     "output_type": "execute_result"
    }
   ],
   "source": [
    "class Point:\n",
    "    def __init__(self, x, y):\n",
    "        self.x = x\n",
    "        self.y = y\n",
    "        \n",
    "    def __repr__(self):\n",
    "        return 'Point({}, {})'.format(self.x, self.y)\n",
    "    \n",
    "    def distance(self, x, y):\n",
    "        return math.hypot(x-self.x, y-self.y)\n",
    "    \n",
    "p = Point(2, 3)\n",
    "p.distance(0, 0)"
   ]
  },
  {
   "cell_type": "code",
   "execution_count": 49,
   "metadata": {},
   "outputs": [
    {
     "data": {
      "text/plain": [
       "3.605551275463989"
      ]
     },
     "execution_count": 49,
     "metadata": {},
     "output_type": "execute_result"
    }
   ],
   "source": [
    "# One way of calling distance method\n",
    "getattr(p, \"distance\")(0, 0)"
   ]
  },
  {
   "cell_type": "code",
   "execution_count": 50,
   "metadata": {},
   "outputs": [
    {
     "data": {
      "text/plain": [
       "3.605551275463989"
      ]
     },
     "execution_count": 50,
     "metadata": {},
     "output_type": "execute_result"
    }
   ],
   "source": [
    "# Another way of extracting the method\n",
    "d = operator.methodcaller('distance', 0, 0)\n",
    "d(p)"
   ]
  },
  {
   "cell_type": "code",
   "execution_count": 51,
   "metadata": {},
   "outputs": [
    {
     "data": {
      "text/plain": [
       "[Point(1, 2),\n",
       " Point(3, 0),\n",
       " Point(3, 2),\n",
       " Point(-1, 8),\n",
       " Point(-5, -7),\n",
       " Point(10, -3)]"
      ]
     },
     "execution_count": 51,
     "metadata": {},
     "output_type": "execute_result"
    }
   ],
   "source": [
    "points = [\n",
    "    Point(1, 2),\n",
    "    Point(3, 0), \n",
    "    Point(10, -3),\n",
    "    Point(-5, -7),\n",
    "    Point(-1, 8), \n",
    "    Point(3, 2)\n",
    "]\n",
    "\n",
    "# Sort by distance from origin\n",
    "points.sort(key = operator.methodcaller('distance', 0, 0))\n",
    "points"
   ]
  },
  {
   "cell_type": "markdown",
   "metadata": {},
   "source": [
    "### 8.21 Visitor Pattern"
   ]
  },
  {
   "cell_type": "code",
   "execution_count": 52,
   "metadata": {},
   "outputs": [],
   "source": [
    "class Node:\n",
    "    def __str__(self):\n",
    "        return self.__class__.__name__\n",
    "    pass\n",
    "\n",
    "class UnaryOperator(Node):\n",
    "    def __init__(self, operand):\n",
    "        self.operand = operand\n",
    "        \n",
    "class BinaryOperator(Node):\n",
    "    def __init__(self, left, right):\n",
    "        self.left = left\n",
    "        self.right = right\n",
    "        \n",
    "class Add(BinaryOperator):\n",
    "    pass\n",
    "\n",
    "class Sub(BinaryOperator):\n",
    "    pass\n",
    "\n",
    "class Mul(BinaryOperator):\n",
    "    pass\n",
    "\n",
    "class Div(BinaryOperator):\n",
    "    pass\n",
    "\n",
    "class Negate(UnaryOperator):\n",
    "    pass\n",
    "\n",
    "class Number(Node):\n",
    "    def __init__(self, value):\n",
    "        self.value = value"
   ]
  },
  {
   "cell_type": "code",
   "execution_count": 53,
   "metadata": {},
   "outputs": [],
   "source": [
    "# Representation of 1 + 2 * (3 - 4) / 5\n",
    "t1 = Sub(Number(3), Number(4))\n",
    "t2 = Mul(Number(2), t1)\n",
    "t3 = Div(t2, Number(5))\n",
    "t4 = Add(Number(1), t3)"
   ]
  },
  {
   "cell_type": "code",
   "execution_count": 54,
   "metadata": {},
   "outputs": [],
   "source": [
    "class NodeVisitor:\n",
    "    def visit(self, node):\n",
    "        method_name = 'visit_' + node.__class__.__name__\n",
    "        method = getattr(self, method_name, None)\n",
    "        if method is None:\n",
    "            method = self.generic_visit\n",
    "        return method(node)\n",
    "    \n",
    "    def generic_visit(self, node):\n",
    "        raise RuntimeError('No visit_{} method.'.format(node.__class__.__name__))"
   ]
  },
  {
   "cell_type": "code",
   "execution_count": 55,
   "metadata": {},
   "outputs": [],
   "source": [
    "class Evaluator(NodeVisitor):\n",
    "    def visit_Number(self, node):\n",
    "        return node.value\n",
    "    \n",
    "    def visit_Add(self, node):\n",
    "        value = self.visit(node.left) + self.visit(node.right)\n",
    "        print('Adding. result = {}'.format(value))\n",
    "        return value\n",
    "    \n",
    "    def visit_Sub(self, node):\n",
    "        value = self.visit(node.left) - self.visit(node.right)\n",
    "        print('Subtraction. result = {}'.format(value))\n",
    "        return value\n",
    "    \n",
    "    def visit_Mul(self, node):\n",
    "        value = self.visit(node.left) * self.visit(node.right)\n",
    "        print('Multiplication. result = {}'.format(value))\n",
    "        return value\n",
    "    \n",
    "    def visit_Div(self, node):\n",
    "        value = self.visit(node.left) / self.visit(node.right)\n",
    "        print('Division. result = {}'.format(value))\n",
    "        return value\n",
    "    "
   ]
  },
  {
   "cell_type": "code",
   "execution_count": 56,
   "metadata": {},
   "outputs": [
    {
     "name": "stdout",
     "output_type": "stream",
     "text": [
      "Subtraction. result = -1\n",
      "Multiplication. result = -2\n",
      "Division. result = -0.4\n",
      "Adding. result = 0.6\n",
      "0.6\n"
     ]
    }
   ],
   "source": [
    "e = Evaluator()\n",
    "final_value = e.visit(t4)\n",
    "print(final_value)"
   ]
  },
  {
   "cell_type": "code",
   "execution_count": 57,
   "metadata": {},
   "outputs": [],
   "source": [
    "class StackCode(NodeVisitor):\n",
    "    \n",
    "    def generate_code(self, node):\n",
    "        self.instructions = []\n",
    "        self.visit(node)\n",
    "        return self.instructions\n",
    "    \n",
    "    def visit_Number(self, node):\n",
    "        self.instructions.append(('PUSH', node.value))\n",
    "        \n",
    "    def binop(self, node, instruction):\n",
    "        self.visit(node.left)\n",
    "        self.visit(node.right)\n",
    "        self.instructions.append((instruction, ))\n",
    "        \n",
    "    def visit_Add(self, node):\n",
    "        self.binop(node, 'ADD')\n",
    "        \n",
    "    def visit_Sub(self, node):\n",
    "        self.binop(node, 'SUB')\n",
    "        \n",
    "    def visit_Mul(self, node):\n",
    "        self.binop(node, 'MUL')\n",
    "        \n",
    "    def visit_Div(self, node):\n",
    "        self.binop(node, 'DIV')\n",
    "        \n",
    "    def unary_op(self, node, instruction):\n",
    "        self.visit(node.operand)\n",
    "        self.instructions.append((instruction, ))\n",
    "        \n",
    "    def visit_Negate(self, node):\n",
    "        self.unary_op(self, 'NEG')"
   ]
  },
  {
   "cell_type": "code",
   "execution_count": 58,
   "metadata": {},
   "outputs": [
    {
     "data": {
      "text/plain": [
       "[('PUSH', 1),\n",
       " ('PUSH', 2),\n",
       " ('PUSH', 3),\n",
       " ('PUSH', 4),\n",
       " ('SUB',),\n",
       " ('MUL',),\n",
       " ('PUSH', 5),\n",
       " ('DIV',),\n",
       " ('ADD',)]"
      ]
     },
     "execution_count": 58,
     "metadata": {},
     "output_type": "execute_result"
    }
   ],
   "source": [
    "s = StackCode()\n",
    "s.generate_code(t4)"
   ]
  },
  {
   "cell_type": "code",
   "execution_count": 59,
   "metadata": {},
   "outputs": [
    {
     "name": "stdout",
     "output_type": "stream",
     "text": [
      "maximum recursion depth exceeded\n"
     ]
    }
   ],
   "source": [
    "a = Number(0)\n",
    "for n in range(1, 100000):\n",
    "    a = Add(a, Number(n))\n",
    "e = Evaluator()\n",
    "try:\n",
    "    e.visit(a)\n",
    "except RecursionError as err:\n",
    "    print(err)"
   ]
  },
  {
   "cell_type": "markdown",
   "metadata": {},
   "source": [
    "### 8.22 Implementing the Visitor without Recursion"
   ]
  },
  {
   "cell_type": "code",
   "execution_count": 60,
   "metadata": {},
   "outputs": [],
   "source": [
    "import types"
   ]
  },
  {
   "cell_type": "code",
   "execution_count": 61,
   "metadata": {},
   "outputs": [],
   "source": [
    "class NewNodeVisitor:\n",
    "    def visit(self, node):\n",
    "        stack = [ node ]\n",
    "        last_result = None\n",
    "        \n",
    "        while stack:\n",
    "            try : \n",
    "                last = stack[-1]\n",
    "                print('Stack length = {}'.format(len(stack)))\n",
    "                print('Processing {}, last_result = {}'.format(last, last_result))\n",
    "                if isinstance(last, types.GeneratorType):\n",
    "                    stack.append(last.send(last_result))\n",
    "                    print('Gen: Added {}'.format(stack[-1]))\n",
    "                    last_result = None\n",
    "                elif isinstance(last, Node):\n",
    "                    stack.append(self._visit(stack.pop()))\n",
    "                    print('Node: Added {}'.format(stack[-1]))\n",
    "                else:\n",
    "                    last_result = stack.pop()\n",
    "                    print('Pop: {}'.format(last_result))\n",
    "                print()\n",
    "            except StopIteration:\n",
    "                print('StopIteration')\n",
    "                stack.pop()\n",
    "        return last_result\n",
    "                    \n",
    "    \n",
    "    def _visit(self, node):\n",
    "        method_name = 'visit_' + node.__class__.__name__\n",
    "        method = getattr(self, method_name, None)\n",
    "        if method is None:\n",
    "            method = self.generic_visit\n",
    "        return method(node)\n",
    "    \n",
    "    def generic_visit(self, node):\n",
    "        raise RuntimeError('No visit_{} method.'.format(node.__class__.__name__))\n",
    "    "
   ]
  },
  {
   "cell_type": "code",
   "execution_count": 62,
   "metadata": {},
   "outputs": [],
   "source": [
    "class NewEvaluator(NewNodeVisitor):\n",
    "    def visit_Number(self, node):\n",
    "        return node.value\n",
    "    \n",
    "    def visit_Add(self, node):\n",
    "        lhs = yield node.left\n",
    "        rhs = yield node.right\n",
    "        yield lhs + rhs\n",
    "\n",
    "    \n",
    "    def visit_Sub(self, node):\n",
    "        lhs = yield node.left\n",
    "        rhs = yield node.right\n",
    "        yield lhs - rhs\n",
    "    \n",
    "    def visit_Mul(self, node):\n",
    "        lhs = yield node.left\n",
    "        rhs = yield node.right\n",
    "        yield lhs * rhs\n",
    "    \n",
    "    def visit_Div(self, node):\n",
    "        lhs = yield node.left\n",
    "        rhs = yield node.right\n",
    "        yield lhs / rhs"
   ]
  },
  {
   "cell_type": "code",
   "execution_count": 63,
   "metadata": {},
   "outputs": [
    {
     "name": "stdout",
     "output_type": "stream",
     "text": [
      "Stack length = 1\n",
      "Processing Add, last_result = None\n",
      "Node: Added <generator object NewEvaluator.visit_Add at 0x102ef4660>\n",
      "\n",
      "Stack length = 1\n",
      "Processing <generator object NewEvaluator.visit_Add at 0x102ef4660>, last_result = None\n",
      "Gen: Added Number\n",
      "\n",
      "Stack length = 2\n",
      "Processing Number, last_result = None\n",
      "Node: Added 1\n",
      "\n",
      "Stack length = 2\n",
      "Processing 1, last_result = None\n",
      "Pop: 1\n",
      "\n",
      "Stack length = 1\n",
      "Processing <generator object NewEvaluator.visit_Add at 0x102ef4660>, last_result = 1\n",
      "Gen: Added Div\n",
      "\n",
      "Stack length = 2\n",
      "Processing Div, last_result = None\n",
      "Node: Added <generator object NewEvaluator.visit_Div at 0x102ef4750>\n",
      "\n",
      "Stack length = 2\n",
      "Processing <generator object NewEvaluator.visit_Div at 0x102ef4750>, last_result = None\n",
      "Gen: Added Mul\n",
      "\n",
      "Stack length = 3\n",
      "Processing Mul, last_result = None\n",
      "Node: Added <generator object NewEvaluator.visit_Mul at 0x102ef4840>\n",
      "\n",
      "Stack length = 3\n",
      "Processing <generator object NewEvaluator.visit_Mul at 0x102ef4840>, last_result = None\n",
      "Gen: Added Number\n",
      "\n",
      "Stack length = 4\n",
      "Processing Number, last_result = None\n",
      "Node: Added 2\n",
      "\n",
      "Stack length = 4\n",
      "Processing 2, last_result = None\n",
      "Pop: 2\n",
      "\n",
      "Stack length = 3\n",
      "Processing <generator object NewEvaluator.visit_Mul at 0x102ef4840>, last_result = 2\n",
      "Gen: Added Sub\n",
      "\n",
      "Stack length = 4\n",
      "Processing Sub, last_result = None\n",
      "Node: Added <generator object NewEvaluator.visit_Sub at 0x102ef4930>\n",
      "\n",
      "Stack length = 4\n",
      "Processing <generator object NewEvaluator.visit_Sub at 0x102ef4930>, last_result = None\n",
      "Gen: Added Number\n",
      "\n",
      "Stack length = 5\n",
      "Processing Number, last_result = None\n",
      "Node: Added 3\n",
      "\n",
      "Stack length = 5\n",
      "Processing 3, last_result = None\n",
      "Pop: 3\n",
      "\n",
      "Stack length = 4\n",
      "Processing <generator object NewEvaluator.visit_Sub at 0x102ef4930>, last_result = 3\n",
      "Gen: Added Number\n",
      "\n",
      "Stack length = 5\n",
      "Processing Number, last_result = None\n",
      "Node: Added 4\n",
      "\n",
      "Stack length = 5\n",
      "Processing 4, last_result = None\n",
      "Pop: 4\n",
      "\n",
      "Stack length = 4\n",
      "Processing <generator object NewEvaluator.visit_Sub at 0x102ef4930>, last_result = 4\n",
      "Gen: Added -1\n",
      "\n",
      "Stack length = 5\n",
      "Processing -1, last_result = None\n",
      "Pop: -1\n",
      "\n",
      "Stack length = 4\n",
      "Processing <generator object NewEvaluator.visit_Sub at 0x102ef4930>, last_result = -1\n",
      "StopIteration\n",
      "Stack length = 3\n",
      "Processing <generator object NewEvaluator.visit_Mul at 0x102ef4840>, last_result = -1\n",
      "Gen: Added -2\n",
      "\n",
      "Stack length = 4\n",
      "Processing -2, last_result = None\n",
      "Pop: -2\n",
      "\n",
      "Stack length = 3\n",
      "Processing <generator object NewEvaluator.visit_Mul at 0x102ef4840>, last_result = -2\n",
      "StopIteration\n",
      "Stack length = 2\n",
      "Processing <generator object NewEvaluator.visit_Div at 0x102ef4750>, last_result = -2\n",
      "Gen: Added Number\n",
      "\n",
      "Stack length = 3\n",
      "Processing Number, last_result = None\n",
      "Node: Added 5\n",
      "\n",
      "Stack length = 3\n",
      "Processing 5, last_result = None\n",
      "Pop: 5\n",
      "\n",
      "Stack length = 2\n",
      "Processing <generator object NewEvaluator.visit_Div at 0x102ef4750>, last_result = 5\n",
      "Gen: Added -0.4\n",
      "\n",
      "Stack length = 3\n",
      "Processing -0.4, last_result = None\n",
      "Pop: -0.4\n",
      "\n",
      "Stack length = 2\n",
      "Processing <generator object NewEvaluator.visit_Div at 0x102ef4750>, last_result = -0.4\n",
      "StopIteration\n",
      "Stack length = 1\n",
      "Processing <generator object NewEvaluator.visit_Add at 0x102ef4660>, last_result = -0.4\n",
      "Gen: Added 0.6\n",
      "\n",
      "Stack length = 2\n",
      "Processing 0.6, last_result = None\n",
      "Pop: 0.6\n",
      "\n",
      "Stack length = 1\n",
      "Processing <generator object NewEvaluator.visit_Add at 0x102ef4660>, last_result = 0.6\n",
      "StopIteration\n"
     ]
    },
    {
     "data": {
      "text/plain": [
       "0.6"
      ]
     },
     "execution_count": 63,
     "metadata": {},
     "output_type": "execute_result"
    }
   ],
   "source": [
    "e = NewEvaluator()\n",
    "e.visit(t4)"
   ]
  },
  {
   "cell_type": "code",
   "execution_count": null,
   "metadata": {},
   "outputs": [],
   "source": []
  }
 ],
 "metadata": {
  "kernelspec": {
   "display_name": "Python 3",
   "language": "python",
   "name": "python3"
  },
  "language_info": {
   "codemirror_mode": {
    "name": "ipython",
    "version": 3
   },
   "file_extension": ".py",
   "mimetype": "text/x-python",
   "name": "python",
   "nbconvert_exporter": "python",
   "pygments_lexer": "ipython3",
   "version": "3.7.1"
  }
 },
 "nbformat": 4,
 "nbformat_minor": 2
}
