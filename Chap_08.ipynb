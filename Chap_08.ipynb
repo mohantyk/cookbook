{
 "cells": [
  {
   "cell_type": "markdown",
   "metadata": {},
   "source": [
    "### 8.2 Customizing string formatting"
   ]
  },
  {
   "cell_type": "code",
   "execution_count": 1,
   "metadata": {},
   "outputs": [],
   "source": [
    "_formats = {\n",
    "    'ymd': '{d.year}-{d.month}-{d.day}',\n",
    "    'mdy': '{d.month}/{d.day}/{d.year}',\n",
    "    'dmy': '{d.day}/{d.month}/{d.year}'\n",
    "}"
   ]
  },
  {
   "cell_type": "code",
   "execution_count": 2,
   "metadata": {},
   "outputs": [],
   "source": [
    "class Date:\n",
    "\n",
    "    def __init__(self, day, month, year):\n",
    "        self.day , self.month, self.year = day, month, year\n",
    "        \n",
    "    def __format__(self, code):\n",
    "        if code=='':\n",
    "            code = 'ymd'\n",
    "        fmt = _formats[code]\n",
    "        return fmt.format(d=self)"
   ]
  },
  {
   "cell_type": "code",
   "execution_count": 3,
   "metadata": {},
   "outputs": [
    {
     "name": "stdout",
     "output_type": "stream",
     "text": [
      "31/7/1985\n",
      "7/31/1985\n",
      "1985-7-31\n"
     ]
    }
   ],
   "source": [
    "d = Date(31, 7, 1985)\n",
    "print(format(d, 'dmy'))\n",
    "print(format(d, 'mdy'))\n",
    "print('{:ymd}'.format(d))"
   ]
  },
  {
   "cell_type": "markdown",
   "metadata": {},
   "source": [
    "### 8.8 Extending a Property in a Subclass"
   ]
  },
  {
   "cell_type": "code",
   "execution_count": 4,
   "metadata": {},
   "outputs": [],
   "source": [
    "class Person:\n",
    "    \n",
    "    def __init__(self, name):\n",
    "        self.name = name\n",
    "        \n",
    "    @property\n",
    "    def name(self):\n",
    "        return self._name\n",
    "    \n",
    "    @name.setter\n",
    "    def name(self, value):\n",
    "        if not isinstance(value, str):\n",
    "            raise TypeError('Expected a string.')\n",
    "        self._name = value"
   ]
  },
  {
   "cell_type": "code",
   "execution_count": 5,
   "metadata": {},
   "outputs": [],
   "source": [
    "class SubPerson(Person):\n",
    "    \n",
    "    @property\n",
    "    def name(self):\n",
    "        print('Getting name')\n",
    "        return super().name\n",
    "    \n",
    "    \n",
    "    @name.setter\n",
    "    def name(self, value):\n",
    "        print('Setting name')\n",
    "        # https://stackoverflow.com/questions/38661438/python-super-two-argument-version-in-context-of-new\n",
    "        super(SubPerson, SubPerson).name.__set__(self, value) # Having a class as the second argument is to access the __set__ class method"
   ]
  },
  {
   "cell_type": "code",
   "execution_count": 6,
   "metadata": {},
   "outputs": [
    {
     "name": "stdout",
     "output_type": "stream",
     "text": [
      "Guido\n",
      "BDFL\n"
     ]
    }
   ],
   "source": [
    "s = Person('Guido')\n",
    "print(s.name)\n",
    "s.name = 'BDFL'\n",
    "print(s.name)"
   ]
  },
  {
   "cell_type": "code",
   "execution_count": 7,
   "metadata": {},
   "outputs": [
    {
     "name": "stdout",
     "output_type": "stream",
     "text": [
      "Setting name\n",
      "Getting name\n",
      "Larry\n",
      "Setting name\n",
      "Getting name\n",
      "Larry Wall\n"
     ]
    }
   ],
   "source": [
    "l = SubPerson('Larry')\n",
    "print(l.name)\n",
    "l.name = 'Larry Wall'\n",
    "print(l.name)"
   ]
  },
  {
   "cell_type": "code",
   "execution_count": 8,
   "metadata": {},
   "outputs": [],
   "source": [
    "class AnotherPerson(Person):\n",
    "    @Person.name.getter\n",
    "    def name(self):\n",
    "        print('Getting name for AnotherPerson')\n",
    "        return super().name\n",
    "        "
   ]
  },
  {
   "cell_type": "code",
   "execution_count": 9,
   "metadata": {},
   "outputs": [
    {
     "name": "stdout",
     "output_type": "stream",
     "text": [
      "Getting name for AnotherPerson\n",
      "Bjarne\n",
      "Getting name for AnotherPerson\n",
      "Getting name for AnotherPerson\n",
      "Bjarne Stroustrop\n"
     ]
    }
   ],
   "source": [
    "c = AnotherPerson('Bjarne')\n",
    "print(c.name)\n",
    "c.name += ' Stroustrop' # Will call the getter again\n",
    "print(c.name)"
   ]
  },
  {
   "cell_type": "code",
   "execution_count": 10,
   "metadata": {},
   "outputs": [
    {
     "name": "stdout",
     "output_type": "stream",
     "text": [
      "Init B\n",
      "A: <__main__.B object at 0x111239d30>\n",
      "B: <__main__.B object at 0x111239d30>\n"
     ]
    }
   ],
   "source": [
    "class A:\n",
    "    def __init__(self):\n",
    "        print('A: {}'.format(self))\n",
    "        \n",
    "class B(A):\n",
    "    def __init__(self):\n",
    "        print('Init B')\n",
    "        super().__init__()\n",
    "        print('B: {}'.format(self))\n",
    "        \n",
    "    def fake_init(self):\n",
    "        print('B fake init')\n",
    "        \n",
    "b = B()"
   ]
  },
  {
   "cell_type": "markdown",
   "metadata": {},
   "source": [
    "### Descriptors"
   ]
  },
  {
   "cell_type": "code",
   "execution_count": 11,
   "metadata": {},
   "outputs": [],
   "source": [
    "class Typed:\n",
    "    def __init__(self, name, expected_type):\n",
    "        self.name = name\n",
    "        self.expected_type = expected_type\n",
    "        \n",
    "    def __get__(self, instance, cls):\n",
    "        if instance is None:\n",
    "            return self\n",
    "        return instance.__dict__[self.name]\n",
    "    \n",
    "    def __set__(self, instance, value):\n",
    "        if not isinstance(value, self.expected_type):\n",
    "            raise TypeError('{} requires an argument of type {!s}'.format(self.name, self.expected_type))\n",
    "        instance.__dict__[self.name] = value"
   ]
  },
  {
   "cell_type": "code",
   "execution_count": 12,
   "metadata": {},
   "outputs": [],
   "source": [
    "def typeassert(**kwargs):\n",
    "    def decorate(cls):\n",
    "        for name, expected_type in kwargs.items():\n",
    "            setattr(cls, name, Typed(name, expected_type))\n",
    "        return cls\n",
    "    return decorate"
   ]
  },
  {
   "cell_type": "code",
   "execution_count": 13,
   "metadata": {},
   "outputs": [],
   "source": [
    "@typeassert(name=str, shares=int, price=float)\n",
    "class Stock:\n",
    "    def __init__(self, name, shares, price):\n",
    "        self.name = name\n",
    "        self.shares = shares\n",
    "        self.price = price"
   ]
  },
  {
   "cell_type": "code",
   "execution_count": 14,
   "metadata": {},
   "outputs": [
    {
     "data": {
      "text/plain": [
       "mappingproxy({'__module__': '__main__',\n",
       "              '__init__': <function __main__.Stock.__init__(self, name, shares, price)>,\n",
       "              '__dict__': <attribute '__dict__' of 'Stock' objects>,\n",
       "              '__weakref__': <attribute '__weakref__' of 'Stock' objects>,\n",
       "              '__doc__': None,\n",
       "              'name': <__main__.Typed at 0x111240710>,\n",
       "              'shares': <__main__.Typed at 0x111240748>,\n",
       "              'price': <__main__.Typed at 0x111240780>})"
      ]
     },
     "execution_count": 14,
     "metadata": {},
     "output_type": "execute_result"
    }
   ],
   "source": [
    "vars(Stock)"
   ]
  },
  {
   "cell_type": "code",
   "execution_count": 15,
   "metadata": {},
   "outputs": [
    {
     "name": "stdout",
     "output_type": "stream",
     "text": [
      "Error: price requires an argument of type <class 'float'>\n"
     ]
    }
   ],
   "source": [
    "google = Stock('GOOG', 2, 1234.)\n",
    "try:\n",
    "    amazon = Stock('AMZN', 3, '1989')\n",
    "except TypeError as err:\n",
    "    print('Error: {}'.format(err))"
   ]
  },
  {
   "cell_type": "markdown",
   "metadata": {},
   "source": [
    "### 8.10 Lazy Properties"
   ]
  },
  {
   "cell_type": "code",
   "execution_count": 16,
   "metadata": {},
   "outputs": [],
   "source": [
    "# A lazy property implemented as a descriptor\n",
    "class lazyproperty:\n",
    "    def __init__(self, func):\n",
    "        self.func = func\n",
    "        \n",
    "    def __get__(self, instance, cls):\n",
    "        if instance is None:\n",
    "            return self\n",
    "        else:\n",
    "            value = self.func(instance)\n",
    "            setattr(instance, self.func.__name__, value)\n",
    "            return value"
   ]
  },
  {
   "cell_type": "code",
   "execution_count": 17,
   "metadata": {},
   "outputs": [],
   "source": [
    "import math\n",
    "\n",
    "class Circle:\n",
    "    def __init__(self, radius):\n",
    "        self.radius = radius\n",
    "        \n",
    "    @lazyproperty\n",
    "    def area(self):\n",
    "        print('Computing area')\n",
    "        return math.pi*(self.radius**2)"
   ]
  },
  {
   "cell_type": "code",
   "execution_count": 18,
   "metadata": {},
   "outputs": [
    {
     "name": "stdout",
     "output_type": "stream",
     "text": [
      "{'radius': 4.0}\n",
      "\n",
      "Computing area\n",
      "50.26548245743669\n",
      "\n",
      "{'radius': 4.0, 'area': 50.26548245743669}\n",
      "\n",
      "Area is now mutable: 42\n"
     ]
    }
   ],
   "source": [
    "c = Circle(4.0)\n",
    "print(vars(c))\n",
    "print()\n",
    "print(c.area)\n",
    "print()\n",
    "print(vars(c))\n",
    "print()\n",
    "c.area = 42\n",
    "print('Area is now mutable: {}'.format(c.area))"
   ]
  },
  {
   "cell_type": "code",
   "execution_count": 19,
   "metadata": {},
   "outputs": [],
   "source": [
    "def immutable_lazyproperty(func):\n",
    "    name = '_lazy_' + func.__name__\n",
    "    \n",
    "    @property\n",
    "    def lazy(self):\n",
    "        if hasattr(self, name):\n",
    "            return getattr(self, name)\n",
    "        else:\n",
    "            value = func(self)\n",
    "            setattr(self, name, value)\n",
    "            return value\n",
    "    return lazy"
   ]
  },
  {
   "cell_type": "code",
   "execution_count": 20,
   "metadata": {},
   "outputs": [],
   "source": [
    "class Square:\n",
    "    def __init__(self, side):\n",
    "        self.side = side\n",
    "        \n",
    "    @immutable_lazyproperty\n",
    "    def area(self):\n",
    "        print('Computing area')\n",
    "        return self.side**2"
   ]
  },
  {
   "cell_type": "code",
   "execution_count": 21,
   "metadata": {},
   "outputs": [
    {
     "name": "stdout",
     "output_type": "stream",
     "text": [
      "{'side': 4.0}\n",
      "\n",
      "Computing area\n",
      "16.0\n",
      "\n",
      "{'side': 4.0, '_lazy_area': 16.0}\n",
      "\n",
      "Can not arbitrary change area now\n"
     ]
    }
   ],
   "source": [
    "c = Square(4.0)\n",
    "print(vars(c))\n",
    "print()\n",
    "print(c.area)\n",
    "print()\n",
    "print(vars(c))\n",
    "print()\n",
    "try:\n",
    "    c.area = 42\n",
    "except Exception as err:\n",
    "    print('Can not arbitrary change area now')\n"
   ]
  },
  {
   "cell_type": "code",
   "execution_count": null,
   "metadata": {},
   "outputs": [],
   "source": []
  }
 ],
 "metadata": {
  "kernelspec": {
   "display_name": "Python 3",
   "language": "python",
   "name": "python3"
  },
  "language_info": {
   "codemirror_mode": {
    "name": "ipython",
    "version": 3
   },
   "file_extension": ".py",
   "mimetype": "text/x-python",
   "name": "python",
   "nbconvert_exporter": "python",
   "pygments_lexer": "ipython3",
   "version": "3.7.1"
  }
 },
 "nbformat": 4,
 "nbformat_minor": 2
}
