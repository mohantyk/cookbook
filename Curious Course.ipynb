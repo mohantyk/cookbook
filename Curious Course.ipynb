{
 "cells": [
  {
   "cell_type": "code",
   "execution_count": 1,
   "metadata": {},
   "outputs": [],
   "source": [
    "from functools import wraps"
   ]
  },
  {
   "cell_type": "code",
   "execution_count": 2,
   "metadata": {},
   "outputs": [],
   "source": [
    "# Decorator to prime coroutine\n",
    "def coroutine(func):\n",
    "    @wraps(func)\n",
    "    def wrapper(*args, **kwargs):\n",
    "        cr = func(*args, **kwargs)\n",
    "        next(cr) # No need to prime the coroutine anymore, the decorator does it for you\n",
    "        return cr\n",
    "    return wrapper"
   ]
  },
  {
   "cell_type": "code",
   "execution_count": 3,
   "metadata": {},
   "outputs": [],
   "source": [
    "def example_grep(pattern):\n",
    "    print('Looking for {}'.format(pattern))\n",
    "    while True:\n",
    "        line = yield\n",
    "        if pattern in line:\n",
    "            print(line)"
   ]
  },
  {
   "cell_type": "code",
   "execution_count": 4,
   "metadata": {},
   "outputs": [
    {
     "name": "stdout",
     "output_type": "stream",
     "text": [
      "Looking for python\n"
     ]
    }
   ],
   "source": [
    "g = example_grep('python')\n",
    "next(g) # Or just use the decorator above for auto priming"
   ]
  },
  {
   "cell_type": "code",
   "execution_count": 5,
   "metadata": {},
   "outputs": [
    {
     "name": "stdout",
     "output_type": "stream",
     "text": [
      "I am a pythonista.\n",
      "c++ or python\n"
     ]
    }
   ],
   "source": [
    "g.send('Hello World')\n",
    "g.send('I am a pythonista.')\n",
    "g.send('c++ or python')\n",
    "g.send('never mind')"
   ]
  },
  {
   "cell_type": "code",
   "execution_count": 6,
   "metadata": {},
   "outputs": [],
   "source": [
    "g.close() # Stop the generator. Will throw an exception that you need to catch"
   ]
  },
  {
   "cell_type": "code",
   "execution_count": 7,
   "metadata": {},
   "outputs": [],
   "source": [
    "@coroutine\n",
    "def printer():\n",
    "    while True:\n",
    "        line = yield\n",
    "        print(line)"
   ]
  },
  {
   "cell_type": "code",
   "execution_count": 8,
   "metadata": {},
   "outputs": [],
   "source": [
    "@coroutine\n",
    "def broadcast(targets):\n",
    "    while True:\n",
    "        line = yield\n",
    "        for target in targets:\n",
    "            target.send(line)"
   ]
  },
  {
   "cell_type": "code",
   "execution_count": 9,
   "metadata": {},
   "outputs": [],
   "source": [
    "@coroutine\n",
    "def grep(pattern, publisher):\n",
    "    while True:\n",
    "        line = yield\n",
    "        if pattern in line:\n",
    "            publisher.send(line+' ({})'.format(pattern))"
   ]
  },
  {
   "cell_type": "code",
   "execution_count": 10,
   "metadata": {},
   "outputs": [],
   "source": [
    "p = printer()\n",
    "x = grep('python', p)\n",
    "y = grep('ml', p)\n",
    "b = broadcast([x, y])"
   ]
  },
  {
   "cell_type": "code",
   "execution_count": 11,
   "metadata": {},
   "outputs": [
    {
     "name": "stdout",
     "output_type": "stream",
     "text": [
      "python is cool (python)\n",
      "ml is in demand (ml)\n",
      "ml uses python (python)\n",
      "ml uses python (ml)\n"
     ]
    }
   ],
   "source": [
    "b.send('Hello')\n",
    "b.send('All hail the BDFL')\n",
    "b.send('python is cool')\n",
    "b.send('ml is in demand')\n",
    "b.send('C++ or Fortran')\n",
    "b.send('ml uses python') # This will be repeated"
   ]
  },
  {
   "cell_type": "code",
   "execution_count": null,
   "metadata": {},
   "outputs": [],
   "source": []
  }
 ],
 "metadata": {
  "kernelspec": {
   "display_name": "Python 3",
   "language": "python",
   "name": "python3"
  },
  "language_info": {
   "codemirror_mode": {
    "name": "ipython",
    "version": 3
   },
   "file_extension": ".py",
   "mimetype": "text/x-python",
   "name": "python",
   "nbconvert_exporter": "python",
   "pygments_lexer": "ipython3",
   "version": "3.7.1"
  }
 },
 "nbformat": 4,
 "nbformat_minor": 2
}
