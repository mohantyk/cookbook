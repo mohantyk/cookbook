{
 "cells": [
  {
   "cell_type": "code",
   "execution_count": 1,
   "metadata": {},
   "outputs": [],
   "source": [
    "from functools import wraps"
   ]
  },
  {
   "cell_type": "code",
   "execution_count": 2,
   "metadata": {},
   "outputs": [],
   "source": [
    "# Decorator to prime coroutine\n",
    "def coroutine(func):\n",
    "    @wraps(func)\n",
    "    def wrapper(*args, **kwargs):\n",
    "        cr = func(*args, **kwargs)\n",
    "        next(cr) # No need to prime the coroutine anymore, the decorator does it for you\n",
    "        return cr\n",
    "    return wrapper"
   ]
  },
  {
   "cell_type": "code",
   "execution_count": 3,
   "metadata": {},
   "outputs": [],
   "source": [
    "def example_grep(pattern):\n",
    "    print('Looking for {}'.format(pattern))\n",
    "    try:\n",
    "        while True:\n",
    "            line = yield\n",
    "            if pattern in line:\n",
    "                print(line)\n",
    "    except GeneratorExit:\n",
    "        print('Closing. No more grep for you !')"
   ]
  },
  {
   "cell_type": "code",
   "execution_count": 4,
   "metadata": {},
   "outputs": [
    {
     "name": "stdout",
     "output_type": "stream",
     "text": [
      "Looking for python\n"
     ]
    }
   ],
   "source": [
    "g = example_grep('python')\n",
    "next(g) # Or just use the decorator above for auto priming"
   ]
  },
  {
   "cell_type": "code",
   "execution_count": 5,
   "metadata": {},
   "outputs": [
    {
     "name": "stdout",
     "output_type": "stream",
     "text": [
      "I am a pythonista.\n",
      "c++ or python\n"
     ]
    }
   ],
   "source": [
    "g.send('Hello World')\n",
    "g.send('I am a pythonista.')\n",
    "g.send('c++ or python')\n",
    "g.send('never mind')"
   ]
  },
  {
   "cell_type": "code",
   "execution_count": 6,
   "metadata": {},
   "outputs": [
    {
     "name": "stdout",
     "output_type": "stream",
     "text": [
      "Closing. No more grep for you !\n"
     ]
    }
   ],
   "source": [
    "g.close() # Stop the generator. Will throw an exception that you need to catch"
   ]
  },
  {
   "cell_type": "code",
   "execution_count": 7,
   "metadata": {},
   "outputs": [],
   "source": [
    "@coroutine\n",
    "def printer():\n",
    "    while True:\n",
    "        line = yield\n",
    "        print(line)"
   ]
  },
  {
   "cell_type": "code",
   "execution_count": 8,
   "metadata": {},
   "outputs": [],
   "source": [
    "@coroutine\n",
    "def broadcast(targets):\n",
    "    while True:\n",
    "        line = yield\n",
    "        for target in targets:\n",
    "            target.send(line)"
   ]
  },
  {
   "cell_type": "code",
   "execution_count": 9,
   "metadata": {},
   "outputs": [],
   "source": [
    "@coroutine\n",
    "def grep(pattern, publisher):\n",
    "    while True:\n",
    "        line = yield\n",
    "        if pattern in line:\n",
    "            publisher.send(line+' ({})'.format(pattern))"
   ]
  },
  {
   "cell_type": "code",
   "execution_count": 10,
   "metadata": {},
   "outputs": [],
   "source": [
    "p = printer()\n",
    "x = grep('python', p)\n",
    "y = grep('ml', p)\n",
    "b = broadcast([x, y])"
   ]
  },
  {
   "cell_type": "code",
   "execution_count": 11,
   "metadata": {},
   "outputs": [
    {
     "name": "stdout",
     "output_type": "stream",
     "text": [
      "python is cool (python)\n",
      "ml is in demand (ml)\n",
      "ml uses python (python)\n",
      "ml uses python (ml)\n"
     ]
    }
   ],
   "source": [
    "b.send('Hello')\n",
    "b.send('All hail the BDFL')\n",
    "b.send('python is cool')\n",
    "b.send('ml is in demand')\n",
    "b.send('C++ or Fortran')\n",
    "b.send('ml uses python') # This will be repeated"
   ]
  },
  {
   "cell_type": "code",
   "execution_count": 12,
   "metadata": {},
   "outputs": [],
   "source": [
    "import xml.sax"
   ]
  },
  {
   "cell_type": "code",
   "execution_count": 13,
   "metadata": {},
   "outputs": [],
   "source": [
    "class EventHandler(xml.sax.ContentHandler):\n",
    "    def __init__(self, target):\n",
    "        self.target = target\n",
    "    def startElement(self,name,attrs):\n",
    "        self.target.send(('start',(name,attrs._attrs)))\n",
    "    def characters(self,text):\n",
    "        self.target.send(('text',text))\n",
    "    def endElement(self,name):\n",
    "        self.target.send(('end',name))\n",
    "\n",
    "# Output is too long - don't run \n",
    "# xml.sax.parse('coroutines/allroutes.xml', EventHandler(printer())) "
   ]
  },
  {
   "cell_type": "markdown",
   "metadata": {},
   "source": [
    "## OS"
   ]
  },
  {
   "cell_type": "code",
   "execution_count": 14,
   "metadata": {},
   "outputs": [],
   "source": [
    "from collections import defaultdict"
   ]
  },
  {
   "cell_type": "code",
   "execution_count": 15,
   "metadata": {},
   "outputs": [],
   "source": [
    "class Task:\n",
    "    taskid = 0\n",
    "    def __init__(self, target):\n",
    "        Task.taskid += 1\n",
    "        self.tid = Task.taskid # Task id\n",
    "        self.target = target   # Target coroutine\n",
    "        self.sendval = None    # Value to send to coroutine\n",
    "        \n",
    "    def run(self):\n",
    "        return self.target.send(self.sendval)"
   ]
  },
  {
   "cell_type": "code",
   "execution_count": 16,
   "metadata": {},
   "outputs": [],
   "source": [
    "from queue import Queue"
   ]
  },
  {
   "cell_type": "code",
   "execution_count": 17,
   "metadata": {},
   "outputs": [],
   "source": [
    "class SystemCall:\n",
    "    def handle(self):\n",
    "        pass\n",
    "    \n",
    "class GeTid(SystemCall):\n",
    "    def handle(self):\n",
    "        self.task.sendval = self.task.tid\n",
    "        self.sched.schedule(self.task)"
   ]
  },
  {
   "cell_type": "code",
   "execution_count": 18,
   "metadata": {},
   "outputs": [],
   "source": [
    "# Used by a task to create a sub-task\n",
    "class NewTask(SystemCall):\n",
    "    def __init__(self, target):\n",
    "        self.target = target\n",
    "        \n",
    "    def handle(self):\n",
    "        child_tid = self.sched.new(self.target)\n",
    "        self.task.sendval = child_tid\n",
    "        self.sched.schedule(self.task)"
   ]
  },
  {
   "cell_type": "code",
   "execution_count": 19,
   "metadata": {},
   "outputs": [],
   "source": [
    "# Used to kill a task\n",
    "class KillTask(SystemCall):\n",
    "    def __init__(self, tid):\n",
    "        self.tid = tid\n",
    "        \n",
    "    def handle(self):\n",
    "        task = self.sched.taskmap.get(self.tid)\n",
    "        if task:\n",
    "            task.target.close()\n",
    "            status = True\n",
    "        else:\n",
    "            status = False\n",
    "        self.task.sendval = status\n",
    "        self.sched.schedule(self.task)"
   ]
  },
  {
   "cell_type": "code",
   "execution_count": 20,
   "metadata": {},
   "outputs": [],
   "source": [
    "class WaitTask(SystemCall):\n",
    "    def __init__(self, tid):\n",
    "        self.tid = tid\n",
    "    \n",
    "    def handle(self):\n",
    "        waiting = self.sched.waitforexit(self.task, self.tid)\n",
    "        self.task.sendval = waiting\n",
    "        if not waiting:\n",
    "            self.sched.schedule(self.task)\n",
    "        "
   ]
  },
  {
   "cell_type": "code",
   "execution_count": 21,
   "metadata": {},
   "outputs": [],
   "source": [
    "class Scheduler:\n",
    "    def __init__(self):\n",
    "        self.ready = Queue() # Queue of tasks ready to run\n",
    "        self.taskmap = {}\n",
    "        self.exit_waiting = defaultdict(list)\n",
    "        \n",
    "    def new(self, target):\n",
    "        newtask = Task(target)\n",
    "        self.taskmap[newtask.tid] = newtask # Keeps track of all active tasks using their taskid\n",
    "        self.schedule(newtask) \n",
    "        return newtask.tid\n",
    "        \n",
    "    # Puts something to the ready queue\n",
    "    def schedule(self, task):\n",
    "        self.ready.put(task)\n",
    "        \n",
    "    def exit(self, task):\n",
    "        del self.taskmap[task.tid] # The task has finished running. Remove it from taskmap\n",
    "        print('Task {} terminated.'.format(task.tid))\n",
    "        for task in self.exit_waiting[task.tid]:\n",
    "            self.schedule(task)          \n",
    "        \n",
    "    def waitforexit(self, waiting_task, waittid):\n",
    "        if waittid in self.taskmap:\n",
    "            # Add waiting_task to the list of tasks waiting for waittid\n",
    "            self.exit_waiting[waittid].append(waiting_task) \n",
    "            return True\n",
    "        else:\n",
    "            return False       \n",
    "        \n",
    "    def mainloop(self):\n",
    "        while self.taskmap:\n",
    "            task = self.ready.get()\n",
    "            try:\n",
    "                result = task.run()  # Only runs to the next yield      \n",
    "            except StopIteration:\n",
    "                self.exit(task)        \n",
    "            else:\n",
    "                if isinstance(result, SystemCall): # If task returns a SystemCall, do something with it\n",
    "                    result.task = task\n",
    "                    result.sched = self\n",
    "                    result.handle()\n",
    "                else:\n",
    "                    self.schedule(task)"
   ]
  },
  {
   "cell_type": "markdown",
   "metadata": {},
   "source": [
    "### Examples"
   ]
  },
  {
   "cell_type": "markdown",
   "metadata": {},
   "source": [
    "#### A few tasks"
   ]
  },
  {
   "cell_type": "code",
   "execution_count": 22,
   "metadata": {},
   "outputs": [],
   "source": [
    "def foo():\n",
    "    print('foo - Part 1')\n",
    "    yield\n",
    "    print('foo -Part 2')\n",
    "    yield\n",
    "    "
   ]
  },
  {
   "cell_type": "code",
   "execution_count": 23,
   "metadata": {},
   "outputs": [],
   "source": [
    "def bar():\n",
    "    print(\"I'm bar\")\n",
    "    yield\n",
    "    print(\"I am friends with foo.\")\n",
    "    yield\n",
    "    print(\"What's the deal with C++ anyway?!\")\n",
    "    yield\n",
    "    print('Tri la la!')"
   ]
  },
  {
   "cell_type": "code",
   "execution_count": 24,
   "metadata": {},
   "outputs": [],
   "source": [
    "def foo_with_return():\n",
    "    mytid = yield GeTid()\n",
    "    for i in range(7):\n",
    "        print('I am foo, running with tid {}'.format(mytid))\n",
    "        yield\n",
    "        \n",
    "def bar_with_return():\n",
    "    mytid = yield GeTid()\n",
    "    for i in range(2):\n",
    "        print('I am bar, running with tid {}'.format(mytid))\n",
    "        yield"
   ]
  },
  {
   "cell_type": "code",
   "execution_count": 25,
   "metadata": {},
   "outputs": [],
   "source": [
    "def parent():\n",
    "    child = yield NewTask(foo_with_return())\n",
    "    for i in range(3):\n",
    "        print('parent : iteration {}'.format(i))\n",
    "        yield\n",
    "    yield KillTask(child)\n",
    "    print('parent complete')"
   ]
  },
  {
   "cell_type": "code",
   "execution_count": 26,
   "metadata": {},
   "outputs": [],
   "source": [
    "def waiting_parent():\n",
    "    child = yield NewTask(foo())\n",
    "    print('Waiting for child')\n",
    "    yield WaitTask(child)\n",
    "    print('Child done')"
   ]
  },
  {
   "cell_type": "markdown",
   "metadata": {},
   "source": [
    "#### Task Example"
   ]
  },
  {
   "cell_type": "code",
   "execution_count": 27,
   "metadata": {},
   "outputs": [
    {
     "name": "stdout",
     "output_type": "stream",
     "text": [
      "Starting foo()\n",
      "foo - Part 1\n",
      "Resuming foo()\n",
      "foo -Part 2\n",
      "Task finished\n"
     ]
    }
   ],
   "source": [
    "t1 = Task(foo())\n",
    "print('Starting foo()')\n",
    "t1.run()\n",
    "print('Resuming foo()')\n",
    "t1.run()\n",
    "try:\n",
    "    t1.run()\n",
    "except StopIteration:\n",
    "    print('Task finished')"
   ]
  },
  {
   "cell_type": "markdown",
   "metadata": {},
   "source": [
    "#### Scheduler example"
   ]
  },
  {
   "cell_type": "code",
   "execution_count": 28,
   "metadata": {},
   "outputs": [
    {
     "name": "stdout",
     "output_type": "stream",
     "text": [
      "foo - Part 1\n",
      "I'm bar\n",
      "foo -Part 2\n",
      "I am friends with foo.\n",
      "Task 2 terminated.\n",
      "What's the deal with C++ anyway?!\n",
      "Tri la la!\n",
      "Task 3 terminated.\n"
     ]
    }
   ],
   "source": [
    "sched = Scheduler()\n",
    "sched.new(foo())\n",
    "sched.new(bar())\n",
    "sched.mainloop()"
   ]
  },
  {
   "cell_type": "markdown",
   "metadata": {},
   "source": [
    "#### System call example"
   ]
  },
  {
   "cell_type": "code",
   "execution_count": 29,
   "metadata": {},
   "outputs": [
    {
     "name": "stdout",
     "output_type": "stream",
     "text": [
      "I am foo, running with tid 4\n",
      "I am bar, running with tid 5\n",
      "I am foo, running with tid 4\n",
      "I am bar, running with tid 5\n",
      "I am foo, running with tid 4\n",
      "Task 5 terminated.\n",
      "I am foo, running with tid 4\n",
      "I am foo, running with tid 4\n",
      "I am foo, running with tid 4\n",
      "I am foo, running with tid 4\n",
      "Task 4 terminated.\n"
     ]
    }
   ],
   "source": [
    "sched = Scheduler()\n",
    "sched.new(foo_with_return())\n",
    "sched.new(bar_with_return())\n",
    "sched.mainloop()"
   ]
  },
  {
   "cell_type": "code",
   "execution_count": 30,
   "metadata": {},
   "outputs": [
    {
     "name": "stdout",
     "output_type": "stream",
     "text": [
      "parent : iteration 0\n",
      "I am foo, running with tid 7\n",
      "parent : iteration 1\n",
      "I am foo, running with tid 7\n",
      "parent : iteration 2\n",
      "I am foo, running with tid 7\n",
      "Task 7 terminated.\n",
      "parent complete\n",
      "Task 6 terminated.\n"
     ]
    }
   ],
   "source": [
    "sched = Scheduler()\n",
    "sched.new(parent())\n",
    "sched.mainloop()"
   ]
  },
  {
   "cell_type": "code",
   "execution_count": 31,
   "metadata": {},
   "outputs": [
    {
     "name": "stdout",
     "output_type": "stream",
     "text": [
      "foo - Part 1\n",
      "Waiting for child\n",
      "foo -Part 2\n",
      "Task 9 terminated.\n",
      "Child done\n",
      "Task 8 terminated.\n"
     ]
    }
   ],
   "source": [
    "sched = Scheduler()\n",
    "sched.new(waiting_parent())\n",
    "sched.mainloop()"
   ]
  }
 ],
 "metadata": {
  "kernelspec": {
   "display_name": "Python 3",
   "language": "python",
   "name": "python3"
  },
  "language_info": {
   "codemirror_mode": {
    "name": "ipython",
    "version": 3
   },
   "file_extension": ".py",
   "mimetype": "text/x-python",
   "name": "python",
   "nbconvert_exporter": "python",
   "pygments_lexer": "ipython3",
   "version": "3.7.1"
  }
 },
 "nbformat": 4,
 "nbformat_minor": 2
}
