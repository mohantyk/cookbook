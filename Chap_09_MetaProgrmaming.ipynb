{
 "cells": [
  {
   "cell_type": "markdown",
   "metadata": {},
   "source": [
    "### 9.1 Wrapper"
   ]
  },
  {
   "cell_type": "code",
   "execution_count": 1,
   "metadata": {},
   "outputs": [],
   "source": [
    "import time\n",
    "import types\n",
    "import operator"
   ]
  },
  {
   "cell_type": "code",
   "execution_count": 2,
   "metadata": {},
   "outputs": [],
   "source": [
    "from functools import wraps\n",
    "from inspect import signature\n",
    "from collections import OrderedDict"
   ]
  },
  {
   "cell_type": "code",
   "execution_count": 3,
   "metadata": {},
   "outputs": [],
   "source": [
    "def timeit(func):\n",
    "    @wraps(func)\n",
    "    def wrapper(*args, **kwargs):\n",
    "        start = time.time()\n",
    "        result = func(*args, **kwargs)\n",
    "        end = time.time()\n",
    "        print(func.__name__, end-start)\n",
    "        return result\n",
    "    return wrapper"
   ]
  },
  {
   "cell_type": "code",
   "execution_count": 4,
   "metadata": {},
   "outputs": [
    {
     "name": "stdout",
     "output_type": "stream",
     "text": [
      "countdown 0.008379936218261719\n",
      "countdown 0.00010585784912109375\n"
     ]
    }
   ],
   "source": [
    "@timeit\n",
    "def countdown(n:int):\n",
    "    '''\n",
    "    Counts down\n",
    "    '''\n",
    "    while n > 0:\n",
    "        n -= 1\n",
    "        \n",
    "countdown(100000)\n",
    "countdown(1000)\n",
    "        "
   ]
  },
  {
   "cell_type": "code",
   "execution_count": 5,
   "metadata": {},
   "outputs": [
    {
     "data": {
      "text/plain": [
       "('countdown',\n",
       " '\\n    Counts down\\n    ',\n",
       " {'n': int},\n",
       " <function __main__.countdown(n: int)>)"
      ]
     },
     "execution_count": 5,
     "metadata": {},
     "output_type": "execute_result"
    }
   ],
   "source": [
    "countdown.__name__, countdown.__doc__, countdown.__annotations__, countdown.__wrapped__"
   ]
  },
  {
   "cell_type": "code",
   "execution_count": 6,
   "metadata": {},
   "outputs": [
    {
     "name": "stdout",
     "output_type": "stream",
     "text": [
      "(n: int)\n"
     ]
    }
   ],
   "source": [
    "print(signature(countdown))"
   ]
  },
  {
   "cell_type": "markdown",
   "metadata": {},
   "source": [
    "### 9.4 Decorator with arguments"
   ]
  },
  {
   "cell_type": "code",
   "execution_count": 7,
   "metadata": {},
   "outputs": [],
   "source": [
    "import logging\n",
    "logging.basicConfig(level=logging.WARNING)"
   ]
  },
  {
   "cell_type": "code",
   "execution_count": 8,
   "metadata": {},
   "outputs": [],
   "source": [
    "from functools import partial\n",
    "\n",
    "# Utility decorator to attach a func as an attribute of an obj\n",
    "def attach_wrapper(obj, func=None):\n",
    "    if func is None:\n",
    "        return partial(attach_wrapper, obj) # This is the wrapper around the func -> attach_wrapper(obj)(func)\n",
    "    setattr(obj, func.__name__, func)\n",
    "    return func"
   ]
  },
  {
   "cell_type": "code",
   "execution_count": 9,
   "metadata": {},
   "outputs": [],
   "source": [
    "def logged(level, name=None, message=None):\n",
    "    \n",
    "    def decorate(func):\n",
    "        logname = name if name else func.__module__\n",
    "        log = logging.getLogger(logname)\n",
    "        logmsg = message if message else func.__name__\n",
    "        \n",
    "        @wraps(func)\n",
    "        def wrapper(*args, **kwargs):\n",
    "            log.log(level, logmsg)\n",
    "            return func(*args, **kwargs)\n",
    "    \n",
    "        @attach_wrapper(wrapper)\n",
    "        def set_level(newlevel):\n",
    "            nonlocal level\n",
    "            level = newlevel\n",
    "            \n",
    "        @attach_wrapper(wrapper)\n",
    "        def set_message(newmsg):\n",
    "            nonlocal logmsg\n",
    "            logmsg = newmsg\n",
    "            \n",
    "        return wrapper\n",
    "        \n",
    "    return decorate"
   ]
  },
  {
   "cell_type": "code",
   "execution_count": 10,
   "metadata": {},
   "outputs": [],
   "source": [
    "@logged(logging.WARNING)\n",
    "def add(x, y):\n",
    "    return x + y\n",
    "\n",
    "@logged(logging.CRITICAL, 'example')\n",
    "def spam():\n",
    "    print('Spam!')"
   ]
  },
  {
   "cell_type": "code",
   "execution_count": 11,
   "metadata": {},
   "outputs": [
    {
     "name": "stderr",
     "output_type": "stream",
     "text": [
      "CRITICAL:example:spam\n",
      "WARNING:__main__:add\n"
     ]
    },
    {
     "name": "stdout",
     "output_type": "stream",
     "text": [
      "Spam!\n"
     ]
    },
    {
     "data": {
      "text/plain": [
       "7"
      ]
     },
     "execution_count": 11,
     "metadata": {},
     "output_type": "execute_result"
    }
   ],
   "source": [
    "spam()\n",
    "add(3, 4)"
   ]
  },
  {
   "cell_type": "code",
   "execution_count": 12,
   "metadata": {},
   "outputs": [
    {
     "name": "stderr",
     "output_type": "stream",
     "text": [
      "ERROR:example:Custom msg\n"
     ]
    },
    {
     "name": "stdout",
     "output_type": "stream",
     "text": [
      "Spam!\n"
     ]
    }
   ],
   "source": [
    "spam.set_level(logging.ERROR)\n",
    "spam.set_message('Custom msg')\n",
    "spam()"
   ]
  },
  {
   "cell_type": "markdown",
   "metadata": {},
   "source": [
    "### 9.7 Type Assertion"
   ]
  },
  {
   "cell_type": "code",
   "execution_count": 13,
   "metadata": {},
   "outputs": [],
   "source": [
    "def spam(x, y, z=42):\n",
    "    pass"
   ]
  },
  {
   "cell_type": "code",
   "execution_count": 14,
   "metadata": {},
   "outputs": [
    {
     "name": "stdout",
     "output_type": "stream",
     "text": [
      "(x, y, z=42)\n"
     ]
    }
   ],
   "source": [
    "sig = signature(spam)\n",
    "print(sig)"
   ]
  },
  {
   "cell_type": "code",
   "execution_count": 15,
   "metadata": {},
   "outputs": [
    {
     "data": {
      "text/plain": [
       "mappingproxy({'x': <Parameter \"x\">,\n",
       "              'y': <Parameter \"y\">,\n",
       "              'z': <Parameter \"z=42\">})"
      ]
     },
     "execution_count": 15,
     "metadata": {},
     "output_type": "execute_result"
    }
   ],
   "source": [
    "sig.parameters"
   ]
  },
  {
   "cell_type": "code",
   "execution_count": 16,
   "metadata": {},
   "outputs": [
    {
     "data": {
      "text/plain": [
       "('z', 42, <_ParameterKind.POSITIONAL_OR_KEYWORD: 1>)"
      ]
     },
     "execution_count": 16,
     "metadata": {},
     "output_type": "execute_result"
    }
   ],
   "source": [
    "sig.parameters['z'].name, sig.parameters['z'].default, sig.parameters['z'].kind"
   ]
  },
  {
   "cell_type": "code",
   "execution_count": 17,
   "metadata": {},
   "outputs": [
    {
     "data": {
      "text/plain": [
       "OrderedDict([('x', int), ('z', int)])"
      ]
     },
     "execution_count": 17,
     "metadata": {},
     "output_type": "execute_result"
    }
   ],
   "source": [
    "bound_types = sig.bind_partial(int, z=int)\n",
    "bound_types.arguments"
   ]
  },
  {
   "cell_type": "code",
   "execution_count": 18,
   "metadata": {},
   "outputs": [],
   "source": [
    "def typeassert(*ty_args, **ty_kwargs):\n",
    "    \n",
    "    def decorate(func):\n",
    "        sig = signature(func)\n",
    "        bound_types = sig.bind_partial(*ty_args, **ty_kwargs).arguments\n",
    "        \n",
    "        @wraps(func)\n",
    "        def wrapper(*args, **kwargs):\n",
    "            bound_values = sig.bind(*args, **kwargs).arguments\n",
    "            # Enforce type assertions\n",
    "            for name, value in bound_values.items():\n",
    "                if name in bound_types:\n",
    "                    if not isinstance(value, bound_types[name]):\n",
    "                        raise TypeError('Argument {} must be of type {}'.format(name, bound_types[name]))\n",
    "            return func(*args, **kwargs)\n",
    "        return wrapper\n",
    "    return decorate\n",
    "            \n",
    "            "
   ]
  },
  {
   "cell_type": "code",
   "execution_count": 19,
   "metadata": {},
   "outputs": [
    {
     "name": "stdout",
     "output_type": "stream",
     "text": [
      "2 + 3 = 5\n",
      "1 world 3\n",
      "Error: Argument x must be of type <class 'int'>\n",
      "Error: Argument y must be of type <class 'str'>\n"
     ]
    }
   ],
   "source": [
    "@typeassert(int, int)\n",
    "def add(x, y=4):\n",
    "    return x + y\n",
    "\n",
    "@typeassert(y=str)\n",
    "def printer(x, y, z):\n",
    "    print(x, y, z)\n",
    "\n",
    "print('2 + 3 = {}'.format(add(2, 3)))\n",
    "printer(1, 'world', 3)\n",
    "try:\n",
    "    add('bat', 'man')\n",
    "except TypeError as err:\n",
    "    print('Error: {}'.format(err))\n",
    "    \n",
    "try:\n",
    "    printer(1, 2, 3)\n",
    "except TypeError as err:\n",
    "    print('Error: {}'.format(err))"
   ]
  },
  {
   "cell_type": "markdown",
   "metadata": {},
   "source": [
    "### 9.9 Decorator as a Class"
   ]
  },
  {
   "cell_type": "code",
   "execution_count": 20,
   "metadata": {},
   "outputs": [],
   "source": [
    "class Profiled:\n",
    "    \n",
    "    def __init__(self, func):\n",
    "        print('__init__ called')\n",
    "        wraps(func)(self)\n",
    "        self.ncalls = 0\n",
    "        \n",
    "    def __call__(self, *args, **kwargs):\n",
    "        print('__call__ called')\n",
    "        self.ncalls += 1\n",
    "        return self.__wrapped__(*args, **kwargs)\n",
    "    \n",
    "    def __get__(self, instance, cls):\n",
    "        print('__get__ called')\n",
    "        if instance is None:\n",
    "            return self\n",
    "        else:\n",
    "            return types.MethodType(self, instance)\n",
    "    "
   ]
  },
  {
   "cell_type": "code",
   "execution_count": 21,
   "metadata": {},
   "outputs": [
    {
     "name": "stdout",
     "output_type": "stream",
     "text": [
      "__init__ called\n"
     ]
    }
   ],
   "source": [
    "@Profiled\n",
    "def sub(x, y):\n",
    "    return x-y"
   ]
  },
  {
   "cell_type": "code",
   "execution_count": 22,
   "metadata": {},
   "outputs": [
    {
     "name": "stdout",
     "output_type": "stream",
     "text": [
      "__call__ called\n",
      "17\n"
     ]
    },
    {
     "data": {
      "text/plain": [
       "1"
      ]
     },
     "execution_count": 22,
     "metadata": {},
     "output_type": "execute_result"
    }
   ],
   "source": [
    "print(sub(20,3))\n",
    "sub.ncalls"
   ]
  },
  {
   "cell_type": "code",
   "execution_count": 23,
   "metadata": {},
   "outputs": [
    {
     "name": "stdout",
     "output_type": "stream",
     "text": [
      "__init__ called\n"
     ]
    }
   ],
   "source": [
    "class Spam:\n",
    "    @Profiled\n",
    "    def bar(self, x):\n",
    "        print(x)\n",
    "    \n",
    "    def foo(self, y):\n",
    "        print(y)"
   ]
  },
  {
   "cell_type": "code",
   "execution_count": 24,
   "metadata": {},
   "outputs": [
    {
     "name": "stdout",
     "output_type": "stream",
     "text": [
      "__get__ called\n",
      "__call__ called\n",
      "author\n",
      "__get__ called\n",
      "__call__ called\n",
      "again\n",
      "__get__ called\n"
     ]
    },
    {
     "data": {
      "text/plain": [
       "2"
      ]
     },
     "execution_count": 24,
     "metadata": {},
     "output_type": "execute_result"
    }
   ],
   "source": [
    "s = Spam()\n",
    "s.bar('author')\n",
    "s.bar('again')\n",
    "s.bar.ncalls"
   ]
  },
  {
   "cell_type": "code",
   "execution_count": 25,
   "metadata": {},
   "outputs": [],
   "source": [
    "def profiled(func):\n",
    "    ncalls = 0\n",
    "    @wraps(func)\n",
    "    def wrapped(*args, **kwargs):\n",
    "        nonlocal ncalls\n",
    "        ncalls += 1\n",
    "        return func(*args, **kwargs)\n",
    "    wrapped.ncalls = lambda : ncalls\n",
    "    return wrapped"
   ]
  },
  {
   "cell_type": "code",
   "execution_count": 26,
   "metadata": {},
   "outputs": [
    {
     "data": {
      "text/plain": [
       "2"
      ]
     },
     "execution_count": 26,
     "metadata": {},
     "output_type": "execute_result"
    }
   ],
   "source": [
    "@profiled\n",
    "def mul(x, y):\n",
    "    return x*y\n",
    "\n",
    "mul(2, 3)\n",
    "mul(3, 4)\n",
    "mul.ncalls()"
   ]
  },
  {
   "cell_type": "markdown",
   "metadata": {},
   "source": [
    "### 9.11 Decorators to add arguments to functions"
   ]
  },
  {
   "cell_type": "code",
   "execution_count": 27,
   "metadata": {},
   "outputs": [],
   "source": [
    "def optional_debug(func):\n",
    "    @wraps(func)\n",
    "    def wrapped(*args, debug=False, **kwargs):\n",
    "        if debug:\n",
    "            print('Calling {}'.format(func.__name__))\n",
    "        return func(*args, **kwargs)\n",
    "    return wrapped"
   ]
  },
  {
   "cell_type": "code",
   "execution_count": 28,
   "metadata": {},
   "outputs": [],
   "source": [
    "@optional_debug\n",
    "def spam(x, y, z):\n",
    "    print(x, y, z)"
   ]
  },
  {
   "cell_type": "code",
   "execution_count": 29,
   "metadata": {},
   "outputs": [
    {
     "name": "stdout",
     "output_type": "stream",
     "text": [
      "1 2 3\n"
     ]
    }
   ],
   "source": [
    "spam(1, 2, 3)"
   ]
  },
  {
   "cell_type": "code",
   "execution_count": 30,
   "metadata": {},
   "outputs": [
    {
     "name": "stdout",
     "output_type": "stream",
     "text": [
      "Calling spam\n",
      "3 4 5\n"
     ]
    }
   ],
   "source": [
    "spam(3, 4, 5, debug=True)"
   ]
  },
  {
   "cell_type": "markdown",
   "metadata": {},
   "source": [
    "### 9.13 MetaClass - Class Creation"
   ]
  },
  {
   "cell_type": "code",
   "execution_count": 31,
   "metadata": {},
   "outputs": [],
   "source": [
    "class NoInstances(type):\n",
    "    def __call__(cls, *args, **kwargs):\n",
    "        raise RuntimeError('Can not instantiate {}'.format(cls))\n",
    "        \n",
    "class Spam(metaclass=NoInstances):\n",
    "    @staticmethod\n",
    "    def grok(x):\n",
    "        print('Spam.grok')\n",
    "        "
   ]
  },
  {
   "cell_type": "code",
   "execution_count": 32,
   "metadata": {},
   "outputs": [
    {
     "name": "stdout",
     "output_type": "stream",
     "text": [
      "Spam.grok\n",
      "Can not instantiate <class '__main__.Spam'>\n"
     ]
    }
   ],
   "source": [
    "Spam.grok('author')\n",
    "try:\n",
    "    s = Spam('Guido')\n",
    "except RuntimeError as err:\n",
    "    print(err)"
   ]
  },
  {
   "cell_type": "code",
   "execution_count": 33,
   "metadata": {},
   "outputs": [],
   "source": [
    "class Singleton(type):\n",
    "    def __init__(cls, name, bases, dct):\n",
    "        cls.__instance = None\n",
    "        super().__init__(name, bases, dct)\n",
    "        \n",
    "    def __call__(cls, *args, **kwargs):\n",
    "        if cls.__instance is None:\n",
    "            cls.__instance =  super().__call__(*args, **kwargs)\n",
    "        return cls.__instance\n",
    "        \n",
    "            \n",
    "class SingleSpam(metaclass=Singleton):\n",
    "    def __init__(self):\n",
    "        print('Creating SingleSpam')"
   ]
  },
  {
   "cell_type": "code",
   "execution_count": 34,
   "metadata": {},
   "outputs": [
    {
     "name": "stdout",
     "output_type": "stream",
     "text": [
      "Creating SingleSpam\n"
     ]
    },
    {
     "data": {
      "text/plain": [
       "True"
      ]
     },
     "execution_count": 34,
     "metadata": {},
     "output_type": "execute_result"
    }
   ],
   "source": [
    "s = SingleSpam()\n",
    "q = SingleSpam()\n",
    "s is q"
   ]
  },
  {
   "cell_type": "markdown",
   "metadata": {},
   "source": [
    "### 9.14 Class Attribute Definition Order"
   ]
  },
  {
   "cell_type": "code",
   "execution_count": 35,
   "metadata": {},
   "outputs": [],
   "source": [
    "class Typed:\n",
    "    _expected_type = None\n",
    "    def __init__(self, name=None):\n",
    "        self._name = name\n",
    "        \n",
    "    def __set__(self, instance, value):\n",
    "        if not isinstance(value, self._expected_type):\n",
    "            raise TypeError('Expected {!s} for {}'.format(self._expected_type, self._name))\n",
    "        instance.__dict__[self._name] = value\n",
    "        \n",
    "        "
   ]
  },
  {
   "cell_type": "code",
   "execution_count": 36,
   "metadata": {},
   "outputs": [],
   "source": [
    "class Integer(Typed):\n",
    "    _expected_type = int\n",
    "    \n",
    "class Float(Typed):\n",
    "    _expected_type = float\n",
    "    \n",
    "class String(Typed):\n",
    "    _expected_type = str"
   ]
  },
  {
   "cell_type": "code",
   "execution_count": 37,
   "metadata": {},
   "outputs": [],
   "source": [
    "class OrderedMeta(type):\n",
    "    @classmethod\n",
    "    def __prepare__(cls, clsname, bases):\n",
    "        return OrderedDict()\n",
    "    \n",
    "    def __new__(meta, clsname, bases, clsdct):\n",
    "        d = dict(clsdct)\n",
    "        order = []\n",
    "        for name, value in clsdct.items():\n",
    "            if isinstance(value, Typed):\n",
    "                value._name = name\n",
    "                order.append(name)\n",
    "        d['_order'] = order\n",
    "        return super().__new__(meta, clsname, bases, d)\n",
    "                "
   ]
  },
  {
   "cell_type": "code",
   "execution_count": 38,
   "metadata": {},
   "outputs": [],
   "source": [
    "class Structure(metaclass=OrderedMeta):\n",
    "    def to_csv(self):\n",
    "        return ','.join(str(getattr(self, name)) for name in self._order)\n",
    "    \n",
    "class Stock(Structure):\n",
    "    name = String()\n",
    "    shares = Integer()\n",
    "    price = Float()\n",
    "    def __init__(self, name, shares, price):\n",
    "        self.name = name\n",
    "        self.shares = shares\n",
    "        self.price = price"
   ]
  },
  {
   "cell_type": "code",
   "execution_count": 39,
   "metadata": {},
   "outputs": [
    {
     "name": "stdout",
     "output_type": "stream",
     "text": [
      "Expected <class 'float'> for price\n"
     ]
    },
    {
     "data": {
      "text/plain": [
       "'AMAZN,10,2000.0'"
      ]
     },
     "execution_count": 39,
     "metadata": {},
     "output_type": "execute_result"
    }
   ],
   "source": [
    "try:\n",
    "    goog = Stock('GOOG', 10, 1500)\n",
    "except TypeError as err:\n",
    "    print(err)\n",
    "amazon = Stock('AMAZN', 10, 2000.)\n",
    "amazon.to_csv()"
   ]
  },
  {
   "cell_type": "markdown",
   "metadata": {},
   "source": [
    "### 9.16 Enforcing argument signature"
   ]
  },
  {
   "cell_type": "code",
   "execution_count": 40,
   "metadata": {},
   "outputs": [],
   "source": [
    "import inspect\n",
    "from inspect import Signature, Parameter"
   ]
  },
  {
   "cell_type": "code",
   "execution_count": 41,
   "metadata": {},
   "outputs": [
    {
     "name": "stdout",
     "output_type": "stream",
     "text": [
      "(x, y=42, *, z=None)\n"
     ]
    }
   ],
   "source": [
    "temp_parms = [ Parameter('x', Parameter.POSITIONAL_OR_KEYWORD), \n",
    "               Parameter('y', Parameter.POSITIONAL_OR_KEYWORD, default=42), \n",
    "               Parameter('z', Parameter.KEYWORD_ONLY, default=None) ]\n",
    "temp_sig = Signature(temp_parms)\n",
    "print(temp_sig)"
   ]
  },
  {
   "cell_type": "code",
   "execution_count": 42,
   "metadata": {},
   "outputs": [],
   "source": [
    "def make_sig(*names):\n",
    "    parms = [Parameter(name, Parameter.POSITIONAL_OR_KEYWORD) for name in names]\n",
    "    return Signature(parms)"
   ]
  },
  {
   "cell_type": "code",
   "execution_count": 43,
   "metadata": {},
   "outputs": [],
   "source": [
    "class Structure:\n",
    "    __signature__ = make_sig()\n",
    "    def __init__(self, *args, **kwargs):\n",
    "        bound_values = self.__signature__.bind(*args, **kwargs)\n",
    "        for name, value in bound_values:\n",
    "            setattr(self, name, value)\n",
    "            \n",
    "            \n",
    "class Point(Structure):\n",
    "    __signature__ = make_sig('x', 'y')"
   ]
  },
  {
   "cell_type": "code",
   "execution_count": 44,
   "metadata": {},
   "outputs": [
    {
     "name": "stdout",
     "output_type": "stream",
     "text": [
      "(x, y)\n"
     ]
    }
   ],
   "source": [
    "print(inspect.signature(Point))"
   ]
  },
  {
   "cell_type": "markdown",
   "metadata": {},
   "source": [
    "### 9.17 Coding Conventions in Classes"
   ]
  },
  {
   "cell_type": "code",
   "execution_count": 45,
   "metadata": {},
   "outputs": [],
   "source": [
    "class NoMixedCaseMeta(type):\n",
    "    def __new__(meta, clsname, bases, clsdct):\n",
    "        for name in clsdct:\n",
    "            if name.lower() != name:\n",
    "                raise TypeError('Bad attribute name: {}'.format(name))\n",
    "        return super().__new__(meta, clsname, bases, clsdct)    "
   ]
  },
  {
   "cell_type": "code",
   "execution_count": 46,
   "metadata": {},
   "outputs": [],
   "source": [
    "class Root(metaclass=NoMixedCaseMeta):\n",
    "    pass\n",
    "\n",
    "class A(Root):\n",
    "    def foo_bar(self):\n",
    "        pass"
   ]
  },
  {
   "cell_type": "code",
   "execution_count": 47,
   "metadata": {},
   "outputs": [
    {
     "name": "stdout",
     "output_type": "stream",
     "text": [
      "Bad attribute name: FooBar\n"
     ]
    }
   ],
   "source": [
    "try:\n",
    "    class B(Root):\n",
    "        def FooBar(self):\n",
    "            pass\n",
    "except TypeError as err:\n",
    "    print(err)"
   ]
  },
  {
   "cell_type": "code",
   "execution_count": 48,
   "metadata": {},
   "outputs": [],
   "source": [
    "class MatchSignaturesMeta(type):\n",
    "    def __init__(cls, clsname, bases, clsdct):\n",
    "        super().__init__(clsname, bases, clsdct)\n",
    "        sup = super(cls, cls)\n",
    "        for name, value in clsdct.items():\n",
    "            if name.startswith('_') or not callable(value):\n",
    "                continue\n",
    "            prev_dfn = getattr(sup, name, None)\n",
    "            if prev_dfn:\n",
    "                prev_sig = inspect.signature(prev_dfn)\n",
    "                curr_sig = inspect.signature(value)\n",
    "                if prev_sig != curr_sig:\n",
    "                    logging.warning('Signature mismatch in {}. {} != {}'.format(value.__qualname__, curr_sig, prev_sig))\n",
    "                   "
   ]
  },
  {
   "cell_type": "code",
   "execution_count": 49,
   "metadata": {},
   "outputs": [
    {
     "name": "stderr",
     "output_type": "stream",
     "text": [
      "WARNING:root:Signature mismatch in B.foo. (self, a, b) != (self, x, y)\n",
      "WARNING:root:Signature mismatch in B.spam. (self, x, z) != (self, x, *, z)\n"
     ]
    }
   ],
   "source": [
    "class Root(metaclass=MatchSignaturesMeta):\n",
    "    pass\n",
    "\n",
    "class A(Root):\n",
    "    def foo(self, x, y):\n",
    "        pass\n",
    "    \n",
    "    def spam(self, x, *, z):\n",
    "        pass\n",
    "    \n",
    "class B(A):\n",
    "    def foo(self, a, b):\n",
    "        pass\n",
    "    \n",
    "    def spam(self, x, z):\n",
    "        pass"
   ]
  },
  {
   "cell_type": "markdown",
   "metadata": {},
   "source": [
    "### 9.18 Defining Classes Programmatically"
   ]
  },
  {
   "cell_type": "code",
   "execution_count": 50,
   "metadata": {},
   "outputs": [
    {
     "data": {
      "text/plain": [
       "'__main__'"
      ]
     },
     "execution_count": 50,
     "metadata": {},
     "output_type": "execute_result"
    }
   ],
   "source": [
    "__name__"
   ]
  },
  {
   "cell_type": "code",
   "execution_count": 51,
   "metadata": {},
   "outputs": [],
   "source": [
    "def __init__(self, name, shares, price):\n",
    "    self.name = name\n",
    "    self.shares = shares\n",
    "    self.price = price\n",
    "    \n",
    "def cost(self):\n",
    "    return self.shares * self.price\n",
    "\n",
    "cls_dict = {\n",
    "    '__init__': __init__,\n",
    "    'cost': cost,\n",
    "}\n",
    "\n",
    "Stock = types.new_class('Stock', (), {}, lambda ns: ns.update(cls_dict))\n",
    "Stock.__module__ = __name__"
   ]
  },
  {
   "cell_type": "code",
   "execution_count": 52,
   "metadata": {},
   "outputs": [
    {
     "data": {
      "text/plain": [
       "2000.0"
      ]
     },
     "execution_count": 52,
     "metadata": {},
     "output_type": "execute_result"
    }
   ],
   "source": [
    "goog = Stock('GOOG', 2, 1000.)\n",
    "goog.cost()"
   ]
  },
  {
   "cell_type": "markdown",
   "metadata": {},
   "source": [
    "### 9.19 Initializing Class Members at Definition Time"
   ]
  },
  {
   "cell_type": "code",
   "execution_count": 53,
   "metadata": {},
   "outputs": [
    {
     "name": "stdout",
     "output_type": "stream",
     "text": [
      "Meta __init__ called\n"
     ]
    }
   ],
   "source": [
    "class StructTupleMeta(type):\n",
    "    def __init__(cls, clsname, bases, clsdict):\n",
    "        print('Meta __init__ called')\n",
    "        super().__init__(clsname, bases, clsdict)\n",
    "        for n, name in enumerate(cls._fields):\n",
    "            print('Setting property {}'.format(name))\n",
    "            setattr(cls, name, property(operator.itemgetter(n))) # Itemgetter works on instance self i.e., tuple\n",
    "            \n",
    "class StructTuple(tuple, metaclass=StructTupleMeta):\n",
    "    _fields = []\n",
    "    def __new__(cls, *args):\n",
    "        print('Class __new__ called')\n",
    "        if len(args) != len(cls._fields):\n",
    "            raise ValueError('{} arguments required.'.format(len(cls._fields)))\n",
    "        return super().__new__(cls, args)"
   ]
  },
  {
   "cell_type": "code",
   "execution_count": 54,
   "metadata": {},
   "outputs": [
    {
     "name": "stdout",
     "output_type": "stream",
     "text": [
      "Meta __init__ called\n",
      "Setting property name\n",
      "Setting property shares\n",
      "Setting property price\n"
     ]
    }
   ],
   "source": [
    "class Stock(StructTuple):\n",
    "    _fields = ['name', 'shares', 'price']"
   ]
  },
  {
   "cell_type": "code",
   "execution_count": 55,
   "metadata": {},
   "outputs": [
    {
     "name": "stdout",
     "output_type": "stream",
     "text": [
      "Class __new__ called\n",
      "('GOOG', 2, 1000.0)\n",
      "GOOG\n",
      "2\n",
      "2000.0\n"
     ]
    }
   ],
   "source": [
    "goog = Stock('GOOG', 2, 1000.)\n",
    "print(goog)\n",
    "print(goog[0])\n",
    "print(goog.shares)\n",
    "print(goog.shares * goog.price)"
   ]
  },
  {
   "cell_type": "markdown",
   "metadata": {},
   "source": [
    "### 9.20 Multiple Dispatch"
   ]
  },
  {
   "cell_type": "code",
   "execution_count": 56,
   "metadata": {},
   "outputs": [],
   "source": [
    "class MultiMethod:\n",
    "    '''\n",
    "    Represents a single multimethod\n",
    "    '''\n",
    "    def __init__(self, name):\n",
    "        self._methods = {}\n",
    "        self.__name__ = name\n",
    "        \n",
    "    \n",
    "    def register(self, meth):\n",
    "        '''\n",
    "        Register a new method as a multimethod\n",
    "        '''\n",
    "        sig = inspect.signature(meth)\n",
    "        \n",
    "        # Build a type signature from annotations\n",
    "        types = []\n",
    "        for name, parm in sig.parameters.items():\n",
    "            if name == 'self':\n",
    "                continue\n",
    "            if parm.annotation is Parameter.empty:\n",
    "                raise TypeError('Argument {} must be annotated with a type.'.format(name))\n",
    "            if not isinstance(parm.annotation, type):\n",
    "                raise TypeError('Argument {} annotation must be a type'.format(name))\n",
    "            # Even if param with default value is not explicit in function call, the multimethod should trigger\n",
    "            if parm.annotation is not Parameter.empty:\n",
    "                self._methods[tuple(types)] = meth\n",
    "            types.append(parm.annotation)\n",
    "            \n",
    "        self._methods[tuple(types)] = meth\n",
    "        \n",
    "    \n",
    "    def __call__(self, *args):\n",
    "        '''\n",
    "        Call a method based on type signature\n",
    "        '''\n",
    "        types = tuple(type(arg) for arg in args[1:])\n",
    "        meth = self._methods.get(types, None)\n",
    "        if meth:\n",
    "            return meth(*args)\n",
    "        else:\n",
    "            raise TypeError('Type signature not found')\n",
    "            \n",
    "    \n",
    "    def __get__(self, instance, owner):\n",
    "        if instance is None:\n",
    "            return self\n",
    "        else:\n",
    "            return types.MethodType(self, instance)\n",
    "            "
   ]
  },
  {
   "cell_type": "code",
   "execution_count": 57,
   "metadata": {},
   "outputs": [],
   "source": [
    "class MultiDict(dict):\n",
    "    '''\n",
    "    Special dict to build multimethods in a class\n",
    "    '''\n",
    "    def __setitem__(self, key, value):\n",
    "        print('Setting key: {}'.format(key))\n",
    "        if key in self:\n",
    "            # If key already exists, it must be a multimethod or callable\n",
    "            current_value = self[key]\n",
    "            if isinstance(current_value, MultiMethod):\n",
    "                current_value.register(value)\n",
    "            else:\n",
    "                # move callable into a new multimethod\n",
    "                mvalue = MultiMethod(key) # new multimethod\n",
    "                mvalue.register(current_value) # move old callable inside multimethod\n",
    "                mvalue.register(value) \n",
    "                super().__setitem__(key, mvalue)\n",
    "        else:\n",
    "            super().__setitem__(key, value)\n",
    "                "
   ]
  },
  {
   "cell_type": "code",
   "execution_count": 58,
   "metadata": {},
   "outputs": [],
   "source": [
    "class MultipleMeta(type):\n",
    "    '''\n",
    "    Metaclass that allows multiple dispatch of methods\n",
    "    '''\n",
    "    def __new__(metacls, clsname, bases, clsdict):\n",
    "        print('Meta __new__ called.')\n",
    "        return super().__new__(metacls, clsname, bases, clsdict)\n",
    "    \n",
    "    @classmethod\n",
    "    def __prepare__(metacls, clsname, bases):\n",
    "        print('Meta __prepare__ called.')\n",
    "        return MultiDict()"
   ]
  },
  {
   "cell_type": "code",
   "execution_count": 59,
   "metadata": {},
   "outputs": [
    {
     "name": "stdout",
     "output_type": "stream",
     "text": [
      "Meta __prepare__ called.\n",
      "Setting key: __module__\n",
      "Setting key: __qualname__\n",
      "Setting key: bar\n",
      "Setting key: bar\n",
      "Meta __new__ called.\n"
     ]
    }
   ],
   "source": [
    "class Spam(metaclass = MultipleMeta):\n",
    "    def bar(self, x:int, y:int):\n",
    "        print('Bar 1: ', x, y)\n",
    "    def bar(self, s:str, n:int=0):\n",
    "        print('Bar 2: ', s, n)"
   ]
  },
  {
   "cell_type": "code",
   "execution_count": 60,
   "metadata": {},
   "outputs": [
    {
     "data": {
      "text/plain": [
       "mappingproxy({'__module__': '__main__',\n",
       "              'bar': <__main__.MultiMethod at 0x10d6c0748>,\n",
       "              '__dict__': <attribute '__dict__' of 'Spam' objects>,\n",
       "              '__weakref__': <attribute '__weakref__' of 'Spam' objects>,\n",
       "              '__doc__': None})"
      ]
     },
     "execution_count": 60,
     "metadata": {},
     "output_type": "execute_result"
    }
   ],
   "source": [
    "Spam.__dict__"
   ]
  },
  {
   "cell_type": "code",
   "execution_count": 61,
   "metadata": {},
   "outputs": [
    {
     "name": "stdout",
     "output_type": "stream",
     "text": [
      "Bar 1:  2 3\n",
      "Bar 2:  author 0\n",
      "Type signature not found\n"
     ]
    }
   ],
   "source": [
    "s = Spam()\n",
    "s.bar(2, 3)\n",
    "s.bar('author', 0)\n",
    "try:\n",
    "    s.bar('author', 'Guido')\n",
    "except TypeError as err:\n",
    "    print(err)"
   ]
  },
  {
   "cell_type": "markdown",
   "metadata": {},
   "source": [
    "### 9.21 Repetitive Property Methods"
   ]
  },
  {
   "cell_type": "code",
   "execution_count": 62,
   "metadata": {},
   "outputs": [],
   "source": [
    "def typed_property(name, expected_type):\n",
    "    storage_name = '_'+name\n",
    "    \n",
    "    @property\n",
    "    def prop(self):\n",
    "        return getattr(self, storage_name)\n",
    "    \n",
    "    @prop.setter\n",
    "    def prop(self, value):\n",
    "        if not isinstance(value, expected_type):\n",
    "            raise TypeError('{} must be a {}'.format(name, expected_type))\n",
    "        setattr(self, storage_name, value)\n",
    "    \n",
    "    return prop\n",
    "\n",
    "# Example use\n",
    "class Person:\n",
    "    name = typed_property('name', str)\n",
    "    age = typed_property('age', int)\n",
    "    def __init__(self, name, age):\n",
    "        self.name = name\n",
    "        self.age = age"
   ]
  },
  {
   "cell_type": "code",
   "execution_count": 63,
   "metadata": {},
   "outputs": [
    {
     "name": "stdout",
     "output_type": "stream",
     "text": [
      "Guido 1000\n",
      "name must be a <class 'str'>\n"
     ]
    }
   ],
   "source": [
    "guido = Person('Guido', 1000)\n",
    "print(guido.name, guido.age)\n",
    "try:\n",
    "    Person(0, 0)\n",
    "except TypeError as err:\n",
    "    print(err)\n"
   ]
  },
  {
   "cell_type": "code",
   "execution_count": 64,
   "metadata": {},
   "outputs": [],
   "source": [
    "String = partial(typed_property, expected_type=str)\n",
    "\n",
    "class Student:\n",
    "    name = String('name')\n",
    "    def __init__(self, name):\n",
    "        self.name = name"
   ]
  },
  {
   "cell_type": "code",
   "execution_count": 65,
   "metadata": {},
   "outputs": [
    {
     "name": "stdout",
     "output_type": "stream",
     "text": [
      "name must be a <class 'str'>\n"
     ]
    }
   ],
   "source": [
    "s = Student('Alex')\n",
    "s.name\n",
    "try:\n",
    "    Student(0)\n",
    "except TypeError as err:\n",
    "    print(err)"
   ]
  },
  {
   "cell_type": "markdown",
   "metadata": {},
   "source": [
    "### 9.22 Context managers"
   ]
  },
  {
   "cell_type": "code",
   "execution_count": 66,
   "metadata": {},
   "outputs": [],
   "source": [
    "from contextlib import contextmanager"
   ]
  },
  {
   "cell_type": "code",
   "execution_count": 67,
   "metadata": {},
   "outputs": [],
   "source": [
    "@contextmanager\n",
    "def mycontext():\n",
    "    print('Enter')\n",
    "    try:\n",
    "        yield 'contextobj'\n",
    "    except RuntimeError as err:\n",
    "        print(err)\n",
    "    print('Exit')"
   ]
  },
  {
   "cell_type": "code",
   "execution_count": 68,
   "metadata": {},
   "outputs": [
    {
     "name": "stdout",
     "output_type": "stream",
     "text": [
      "Enter\n",
      "User\n",
      "contextobj\n",
      "oops\n",
      "Exit\n"
     ]
    }
   ],
   "source": [
    "with mycontext() as ret:\n",
    "    print('User')\n",
    "    print(ret)\n",
    "    raise RuntimeError('oops')"
   ]
  }
 ],
 "metadata": {
  "kernelspec": {
   "display_name": "Python 3",
   "language": "python",
   "name": "python3"
  },
  "language_info": {
   "codemirror_mode": {
    "name": "ipython",
    "version": 3
   },
   "file_extension": ".py",
   "mimetype": "text/x-python",
   "name": "python",
   "nbconvert_exporter": "python",
   "pygments_lexer": "ipython3",
   "version": "3.7.1"
  }
 },
 "nbformat": 4,
 "nbformat_minor": 2
}
