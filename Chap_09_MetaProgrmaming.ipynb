{
 "cells": [
  {
   "cell_type": "markdown",
   "metadata": {},
   "source": [
    "### 9.1 Wrapper"
   ]
  },
  {
   "cell_type": "code",
   "execution_count": 1,
   "metadata": {},
   "outputs": [],
   "source": [
    "import time\n",
    "from functools import wraps"
   ]
  },
  {
   "cell_type": "code",
   "execution_count": 2,
   "metadata": {},
   "outputs": [],
   "source": [
    "def timeit(func):\n",
    "    @wraps(func)\n",
    "    def wrapper(*args, **kwargs):\n",
    "        start = time.time()\n",
    "        result = func(*args, **kwargs)\n",
    "        end = time.time()\n",
    "        print(func.__name__, end-start)\n",
    "        return result\n",
    "    return wrapper"
   ]
  },
  {
   "cell_type": "code",
   "execution_count": 3,
   "metadata": {},
   "outputs": [
    {
     "name": "stdout",
     "output_type": "stream",
     "text": [
      "countdown 0.013993024826049805\n",
      "countdown 0.00011014938354492188\n"
     ]
    }
   ],
   "source": [
    "@timeit\n",
    "def countdown(n:int):\n",
    "    '''\n",
    "    Counts down\n",
    "    '''\n",
    "    while n > 0:\n",
    "        n -= 1\n",
    "        \n",
    "countdown(100000)\n",
    "countdown(1000)\n",
    "        "
   ]
  },
  {
   "cell_type": "code",
   "execution_count": 4,
   "metadata": {},
   "outputs": [
    {
     "data": {
      "text/plain": [
       "('countdown',\n",
       " '\\n    Counts down\\n    ',\n",
       " {'n': int},\n",
       " <function __main__.countdown(n: int)>)"
      ]
     },
     "execution_count": 4,
     "metadata": {},
     "output_type": "execute_result"
    }
   ],
   "source": [
    "countdown.__name__, countdown.__doc__, countdown.__annotations__, countdown.__wrapped__"
   ]
  },
  {
   "cell_type": "code",
   "execution_count": 5,
   "metadata": {},
   "outputs": [
    {
     "name": "stdout",
     "output_type": "stream",
     "text": [
      "(n: int)\n"
     ]
    }
   ],
   "source": [
    "from inspect import signature\n",
    "\n",
    "print(signature(countdown))"
   ]
  },
  {
   "cell_type": "markdown",
   "metadata": {},
   "source": [
    "### 9.4 Decorator with arguments"
   ]
  },
  {
   "cell_type": "code",
   "execution_count": 6,
   "metadata": {},
   "outputs": [],
   "source": [
    "import logging\n",
    "logging.basicConfig(level=logging.WARNING)"
   ]
  },
  {
   "cell_type": "code",
   "execution_count": 7,
   "metadata": {},
   "outputs": [],
   "source": [
    "from functools import partial\n",
    "\n",
    "# Utility decorator to attach a func as an attribute of an obj\n",
    "def attach_wrapper(obj, func=None):\n",
    "    if func is None:\n",
    "        return partial(attach_wrapper, obj) # This is the wrapper around the func -> attach_wrapper(obj)(func)\n",
    "    setattr(obj, func.__name__, func)\n",
    "    return func"
   ]
  },
  {
   "cell_type": "code",
   "execution_count": 8,
   "metadata": {},
   "outputs": [],
   "source": [
    "def logged(level, name=None, message=None):\n",
    "    \n",
    "    def decorate(func):\n",
    "        logname = name if name else func.__module__\n",
    "        log = logging.getLogger(logname)\n",
    "        logmsg = message if message else func.__name__\n",
    "        \n",
    "        @wraps(func)\n",
    "        def wrapper(*args, **kwargs):\n",
    "            log.log(level, logmsg)\n",
    "            return func(*args, **kwargs)\n",
    "    \n",
    "        @attach_wrapper(wrapper)\n",
    "        def set_level(newlevel):\n",
    "            nonlocal level\n",
    "            level = newlevel\n",
    "            \n",
    "        @attach_wrapper(wrapper)\n",
    "        def set_message(newmsg):\n",
    "            nonlocal logmsg\n",
    "            logmsg = newmsg\n",
    "            \n",
    "        return wrapper\n",
    "        \n",
    "    return decorate"
   ]
  },
  {
   "cell_type": "code",
   "execution_count": 9,
   "metadata": {},
   "outputs": [],
   "source": [
    "@logged(logging.WARNING)\n",
    "def add(x, y):\n",
    "    return x + y\n",
    "\n",
    "@logged(logging.CRITICAL, 'example')\n",
    "def spam():\n",
    "    print('Spam!')"
   ]
  },
  {
   "cell_type": "code",
   "execution_count": 10,
   "metadata": {},
   "outputs": [
    {
     "name": "stderr",
     "output_type": "stream",
     "text": [
      "CRITICAL:example:spam\n",
      "WARNING:__main__:add\n"
     ]
    },
    {
     "name": "stdout",
     "output_type": "stream",
     "text": [
      "Spam!\n"
     ]
    },
    {
     "data": {
      "text/plain": [
       "7"
      ]
     },
     "execution_count": 10,
     "metadata": {},
     "output_type": "execute_result"
    }
   ],
   "source": [
    "spam()\n",
    "add(3, 4)"
   ]
  },
  {
   "cell_type": "code",
   "execution_count": 11,
   "metadata": {},
   "outputs": [
    {
     "name": "stderr",
     "output_type": "stream",
     "text": [
      "ERROR:example:Custom msg\n"
     ]
    },
    {
     "name": "stdout",
     "output_type": "stream",
     "text": [
      "Spam!\n"
     ]
    }
   ],
   "source": [
    "spam.set_level(logging.ERROR)\n",
    "spam.set_message('Custom msg')\n",
    "spam()"
   ]
  },
  {
   "cell_type": "code",
   "execution_count": null,
   "metadata": {},
   "outputs": [],
   "source": []
  }
 ],
 "metadata": {
  "kernelspec": {
   "display_name": "Python 3",
   "language": "python",
   "name": "python3"
  },
  "language_info": {
   "codemirror_mode": {
    "name": "ipython",
    "version": 3
   },
   "file_extension": ".py",
   "mimetype": "text/x-python",
   "name": "python",
   "nbconvert_exporter": "python",
   "pygments_lexer": "ipython3",
   "version": "3.7.1"
  }
 },
 "nbformat": 4,
 "nbformat_minor": 2
}
